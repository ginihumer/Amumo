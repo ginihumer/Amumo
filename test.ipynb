{
 "cells": [
  {
   "cell_type": "code",
   "execution_count": 8,
   "metadata": {},
   "outputs": [
    {
     "name": "stdout",
     "output_type": "stream",
     "text": [
      "Requirement already satisfied: nbinteract in /Users/christina/anaconda3/envs/myenv/lib/python3.9/site-packages (0.2.6)\n",
      "Requirement already satisfied: numpy<2,>=1 in /Users/christina/anaconda3/envs/myenv/lib/python3.9/site-packages (from nbinteract) (1.23.5)\n",
      "Requirement already satisfied: IPython<8,>=6 in /Users/christina/anaconda3/envs/myenv/lib/python3.9/site-packages (from nbinteract) (7.34.0)\n",
      "Requirement already satisfied: nbconvert>=5.3 in /Users/christina/anaconda3/envs/myenv/lib/python3.9/site-packages (from nbinteract) (5.6.1)\n",
      "Requirement already satisfied: traitlets<5,>=4.3 in /Users/christina/anaconda3/envs/myenv/lib/python3.9/site-packages (from nbinteract) (4.3.3)\n",
      "Requirement already satisfied: toolz<1,>=0.8 in /Users/christina/anaconda3/envs/myenv/lib/python3.9/site-packages (from nbinteract) (0.12.0)\n",
      "Requirement already satisfied: docopt<1,>=0.6.2 in /Users/christina/anaconda3/envs/myenv/lib/python3.9/site-packages (from nbinteract) (0.6.2)\n",
      "Requirement already satisfied: nbformat<5,>=4.4.0 in /Users/christina/anaconda3/envs/myenv/lib/python3.9/site-packages (from nbinteract) (4.4.0)\n",
      "Requirement already satisfied: Jinja2<3,>=2.10 in /Users/christina/anaconda3/envs/myenv/lib/python3.9/site-packages (from nbinteract) (2.11.3)\n",
      "Requirement already satisfied: bqplot==0.11.0 in /Users/christina/anaconda3/envs/myenv/lib/python3.9/site-packages (from nbinteract) (0.11.0)\n",
      "Requirement already satisfied: ipywidgets<8,>=7.5.0 in /Users/christina/anaconda3/envs/myenv/lib/python3.9/site-packages (from nbinteract) (7.7.5)\n",
      "Requirement already satisfied: traittypes>=0.0.6 in /Users/christina/anaconda3/envs/myenv/lib/python3.9/site-packages (from bqplot==0.11.0->nbinteract) (0.2.1)\n",
      "Requirement already satisfied: pandas in /Users/christina/.local/lib/python3.9/site-packages (from bqplot==0.11.0->nbinteract) (1.3.5)\n",
      "Requirement already satisfied: setuptools>=18.5 in /Users/christina/anaconda3/envs/myenv/lib/python3.9/site-packages (from IPython<8,>=6->nbinteract) (67.7.2)\n",
      "Requirement already satisfied: jedi>=0.16 in /Users/christina/anaconda3/envs/myenv/lib/python3.9/site-packages (from IPython<8,>=6->nbinteract) (0.18.2)\n",
      "Requirement already satisfied: decorator in /Users/christina/anaconda3/envs/myenv/lib/python3.9/site-packages (from IPython<8,>=6->nbinteract) (5.1.1)\n",
      "Requirement already satisfied: pickleshare in /Users/christina/anaconda3/envs/myenv/lib/python3.9/site-packages (from IPython<8,>=6->nbinteract) (0.7.5)\n",
      "Requirement already satisfied: prompt-toolkit!=3.0.0,!=3.0.1,<3.1.0,>=2.0.0 in /Users/christina/anaconda3/envs/myenv/lib/python3.9/site-packages (from IPython<8,>=6->nbinteract) (3.0.38)\n",
      "Requirement already satisfied: pygments in /Users/christina/anaconda3/envs/myenv/lib/python3.9/site-packages (from IPython<8,>=6->nbinteract) (2.15.1)\n",
      "Requirement already satisfied: backcall in /Users/christina/anaconda3/envs/myenv/lib/python3.9/site-packages (from IPython<8,>=6->nbinteract) (0.2.0)\n",
      "Requirement already satisfied: matplotlib-inline in /Users/christina/anaconda3/envs/myenv/lib/python3.9/site-packages (from IPython<8,>=6->nbinteract) (0.1.6)\n",
      "Requirement already satisfied: pexpect>4.3 in /Users/christina/anaconda3/envs/myenv/lib/python3.9/site-packages (from IPython<8,>=6->nbinteract) (4.8.0)\n",
      "Requirement already satisfied: appnope in /Users/christina/anaconda3/envs/myenv/lib/python3.9/site-packages (from IPython<8,>=6->nbinteract) (0.1.3)\n",
      "Requirement already satisfied: ipykernel>=4.5.1 in /Users/christina/anaconda3/envs/myenv/lib/python3.9/site-packages (from ipywidgets<8,>=7.5.0->nbinteract) (6.4.2)\n",
      "Requirement already satisfied: ipython-genutils~=0.2.0 in /Users/christina/anaconda3/envs/myenv/lib/python3.9/site-packages (from ipywidgets<8,>=7.5.0->nbinteract) (0.2.0)\n",
      "Requirement already satisfied: widgetsnbextension~=3.6.4 in /Users/christina/anaconda3/envs/myenv/lib/python3.9/site-packages (from ipywidgets<8,>=7.5.0->nbinteract) (3.6.4)\n",
      "Requirement already satisfied: jupyterlab-widgets<3,>=1.0.0 in /Users/christina/anaconda3/envs/myenv/lib/python3.9/site-packages (from ipywidgets<8,>=7.5.0->nbinteract) (1.1.4)\n",
      "Requirement already satisfied: MarkupSafe>=0.23 in /Users/christina/anaconda3/envs/myenv/lib/python3.9/site-packages (from Jinja2<3,>=2.10->nbinteract) (2.1.2)\n",
      "Requirement already satisfied: mistune<2,>=0.8.1 in /Users/christina/anaconda3/envs/myenv/lib/python3.9/site-packages (from nbconvert>=5.3->nbinteract) (0.8.4)\n",
      "Requirement already satisfied: jupyter-core in /Users/christina/anaconda3/envs/myenv/lib/python3.9/site-packages (from nbconvert>=5.3->nbinteract) (5.0.0)\n",
      "Requirement already satisfied: entrypoints>=0.2.2 in /Users/christina/anaconda3/envs/myenv/lib/python3.9/site-packages (from nbconvert>=5.3->nbinteract) (0.4)\n",
      "Requirement already satisfied: bleach in /Users/christina/anaconda3/envs/myenv/lib/python3.9/site-packages (from nbconvert>=5.3->nbinteract) (6.0.0)\n",
      "Requirement already satisfied: pandocfilters>=1.4.1 in /Users/christina/anaconda3/envs/myenv/lib/python3.9/site-packages (from nbconvert>=5.3->nbinteract) (1.5.0)\n",
      "Requirement already satisfied: testpath in /Users/christina/anaconda3/envs/myenv/lib/python3.9/site-packages (from nbconvert>=5.3->nbinteract) (0.6.0)\n",
      "Requirement already satisfied: defusedxml in /Users/christina/anaconda3/envs/myenv/lib/python3.9/site-packages (from nbconvert>=5.3->nbinteract) (0.7.1)\n",
      "Requirement already satisfied: jsonschema!=2.5.0,>=2.4 in /Users/christina/anaconda3/envs/myenv/lib/python3.9/site-packages (from nbformat<5,>=4.4.0->nbinteract) (4.17.3)\n",
      "Requirement already satisfied: six in /Users/christina/anaconda3/envs/myenv/lib/python3.9/site-packages (from traitlets<5,>=4.3->nbinteract) (1.16.0)\n",
      "Requirement already satisfied: debugpy<2.0,>=1.0.0 in /Users/christina/anaconda3/envs/myenv/lib/python3.9/site-packages (from ipykernel>=4.5.1->ipywidgets<8,>=7.5.0->nbinteract) (1.6.7)\n",
      "Requirement already satisfied: jupyter-client<8.0 in /Users/christina/anaconda3/envs/myenv/lib/python3.9/site-packages (from ipykernel>=4.5.1->ipywidgets<8,>=7.5.0->nbinteract) (7.4.9)\n",
      "Requirement already satisfied: tornado<7.0,>=4.2 in /Users/christina/anaconda3/envs/myenv/lib/python3.9/site-packages (from ipykernel>=4.5.1->ipywidgets<8,>=7.5.0->nbinteract) (6.3.2)\n",
      "Requirement already satisfied: parso<0.9.0,>=0.8.0 in /Users/christina/anaconda3/envs/myenv/lib/python3.9/site-packages (from jedi>=0.16->IPython<8,>=6->nbinteract) (0.8.3)\n",
      "Requirement already satisfied: attrs>=17.4.0 in /Users/christina/anaconda3/envs/myenv/lib/python3.9/site-packages (from jsonschema!=2.5.0,>=2.4->nbformat<5,>=4.4.0->nbinteract) (23.1.0)\n",
      "Requirement already satisfied: pyrsistent!=0.17.0,!=0.17.1,!=0.17.2,>=0.14.0 in /Users/christina/anaconda3/envs/myenv/lib/python3.9/site-packages (from jsonschema!=2.5.0,>=2.4->nbformat<5,>=4.4.0->nbinteract) (0.19.3)\n",
      "Requirement already satisfied: ptyprocess>=0.5 in /Users/christina/anaconda3/envs/myenv/lib/python3.9/site-packages (from pexpect>4.3->IPython<8,>=6->nbinteract) (0.7.0)\n",
      "Requirement already satisfied: wcwidth in /Users/christina/anaconda3/envs/myenv/lib/python3.9/site-packages (from prompt-toolkit!=3.0.0,!=3.0.1,<3.1.0,>=2.0.0->IPython<8,>=6->nbinteract) (0.2.6)\n",
      "Requirement already satisfied: notebook>=4.4.1 in /Users/christina/anaconda3/envs/myenv/lib/python3.9/site-packages (from widgetsnbextension~=3.6.4->ipywidgets<8,>=7.5.0->nbinteract) (6.5.4)\n",
      "Requirement already satisfied: webencodings in /Users/christina/anaconda3/envs/myenv/lib/python3.9/site-packages (from bleach->nbconvert>=5.3->nbinteract) (0.5.1)\n",
      "Requirement already satisfied: platformdirs in /Users/christina/anaconda3/envs/myenv/lib/python3.9/site-packages (from jupyter-core->nbconvert>=5.3->nbinteract) (3.5.1)\n",
      "Requirement already satisfied: python-dateutil>=2.7.3 in /Users/christina/anaconda3/envs/myenv/lib/python3.9/site-packages (from pandas->bqplot==0.11.0->nbinteract) (2.8.2)\n",
      "Requirement already satisfied: pytz>=2017.3 in /Users/christina/anaconda3/envs/myenv/lib/python3.9/site-packages (from pandas->bqplot==0.11.0->nbinteract) (2023.3)\n",
      "Requirement already satisfied: nest-asyncio>=1.5.4 in /Users/christina/anaconda3/envs/myenv/lib/python3.9/site-packages (from jupyter-client<8.0->ipykernel>=4.5.1->ipywidgets<8,>=7.5.0->nbinteract) (1.5.6)\n",
      "Requirement already satisfied: pyzmq>=23.0 in /Users/christina/anaconda3/envs/myenv/lib/python3.9/site-packages (from jupyter-client<8.0->ipykernel>=4.5.1->ipywidgets<8,>=7.5.0->nbinteract) (25.0.2)\n",
      "Requirement already satisfied: argon2-cffi in /Users/christina/anaconda3/envs/myenv/lib/python3.9/site-packages (from notebook>=4.4.1->widgetsnbextension~=3.6.4->ipywidgets<8,>=7.5.0->nbinteract) (21.3.0)\n",
      "Requirement already satisfied: Send2Trash>=1.8.0 in /Users/christina/anaconda3/envs/myenv/lib/python3.9/site-packages (from notebook>=4.4.1->widgetsnbextension~=3.6.4->ipywidgets<8,>=7.5.0->nbinteract) (1.8.2)\n",
      "Requirement already satisfied: terminado>=0.8.3 in /Users/christina/anaconda3/envs/myenv/lib/python3.9/site-packages (from notebook>=4.4.1->widgetsnbextension~=3.6.4->ipywidgets<8,>=7.5.0->nbinteract) (0.17.1)\n",
      "Requirement already satisfied: prometheus-client in /Users/christina/anaconda3/envs/myenv/lib/python3.9/site-packages (from notebook>=4.4.1->widgetsnbextension~=3.6.4->ipywidgets<8,>=7.5.0->nbinteract) (0.16.0)\n",
      "Requirement already satisfied: nbclassic>=0.4.7 in /Users/christina/anaconda3/envs/myenv/lib/python3.9/site-packages (from notebook>=4.4.1->widgetsnbextension~=3.6.4->ipywidgets<8,>=7.5.0->nbinteract) (1.0.0)\n",
      "Requirement already satisfied: jupyter-server>=1.8 in /Users/christina/anaconda3/envs/myenv/lib/python3.9/site-packages (from nbclassic>=0.4.7->notebook>=4.4.1->widgetsnbextension~=3.6.4->ipywidgets<8,>=7.5.0->nbinteract) (1.13.2)\n",
      "Requirement already satisfied: notebook-shim>=0.2.3 in /Users/christina/anaconda3/envs/myenv/lib/python3.9/site-packages (from nbclassic>=0.4.7->notebook>=4.4.1->widgetsnbextension~=3.6.4->ipywidgets<8,>=7.5.0->nbinteract) (0.2.3)\n",
      "Requirement already satisfied: argon2-cffi-bindings in /Users/christina/anaconda3/envs/myenv/lib/python3.9/site-packages (from argon2-cffi->notebook>=4.4.1->widgetsnbextension~=3.6.4->ipywidgets<8,>=7.5.0->nbinteract) (21.2.0)\n",
      "Requirement already satisfied: anyio<4,>=3.1.0 in /Users/christina/anaconda3/envs/myenv/lib/python3.9/site-packages (from jupyter-server>=1.8->nbclassic>=0.4.7->notebook>=4.4.1->widgetsnbextension~=3.6.4->ipywidgets<8,>=7.5.0->nbinteract) (3.6.2)\n",
      "Requirement already satisfied: websocket-client in /Users/christina/anaconda3/envs/myenv/lib/python3.9/site-packages (from jupyter-server>=1.8->nbclassic>=0.4.7->notebook>=4.4.1->widgetsnbextension~=3.6.4->ipywidgets<8,>=7.5.0->nbinteract) (1.5.2)\n",
      "Requirement already satisfied: packaging in /Users/christina/anaconda3/envs/myenv/lib/python3.9/site-packages (from jupyter-server>=1.8->nbclassic>=0.4.7->notebook>=4.4.1->widgetsnbextension~=3.6.4->ipywidgets<8,>=7.5.0->nbinteract) (23.1)\n",
      "Requirement already satisfied: cffi>=1.0.1 in /Users/christina/anaconda3/envs/myenv/lib/python3.9/site-packages (from argon2-cffi-bindings->argon2-cffi->notebook>=4.4.1->widgetsnbextension~=3.6.4->ipywidgets<8,>=7.5.0->nbinteract) (1.15.1)\n",
      "Requirement already satisfied: idna>=2.8 in /Users/christina/anaconda3/envs/myenv/lib/python3.9/site-packages (from anyio<4,>=3.1.0->jupyter-server>=1.8->nbclassic>=0.4.7->notebook>=4.4.1->widgetsnbextension~=3.6.4->ipywidgets<8,>=7.5.0->nbinteract) (3.4)\n",
      "Requirement already satisfied: sniffio>=1.1 in /Users/christina/anaconda3/envs/myenv/lib/python3.9/site-packages (from anyio<4,>=3.1.0->jupyter-server>=1.8->nbclassic>=0.4.7->notebook>=4.4.1->widgetsnbextension~=3.6.4->ipywidgets<8,>=7.5.0->nbinteract) (1.3.0)\n",
      "Requirement already satisfied: pycparser in /Users/christina/anaconda3/envs/myenv/lib/python3.9/site-packages (from cffi>=1.0.1->argon2-cffi-bindings->argon2-cffi->notebook>=4.4.1->widgetsnbextension~=3.6.4->ipywidgets<8,>=7.5.0->nbinteract) (2.21)\n",
      "Enabling notebook extension bqplot/extension...\n",
      "      - Validating: \u001b[32mOK\u001b[0m\n",
      "Enabling notebook extension jupyter-js-widgets/extension...\n",
      "      - Validating: \u001b[32mOK\u001b[0m\n"
     ]
    }
   ],
   "source": [
    "! pip install nbinteract\n",
    "! jupyter nbextension enable --py --sys-prefix bqplot\n",
    "! jupyter nbextension enable --py --sys-prefix widgetsnbextension"
   ]
  },
  {
   "cell_type": "code",
   "execution_count": 10,
   "metadata": {},
   "outputs": [
    {
     "ename": "ImportError",
     "evalue": "cannot import name 'encodestring' from 'base64' (/Users/christina/anaconda3/envs/myenv/lib/python3.9/base64.py)",
     "output_type": "error",
     "traceback": [
      "\u001b[0;31m---------------------------------------------------------------------------\u001b[0m",
      "\u001b[0;31mImportError\u001b[0m                               Traceback (most recent call last)",
      "Cell \u001b[0;32mIn[10], line 1\u001b[0m\n\u001b[0;32m----> 1\u001b[0m \u001b[39mimport\u001b[39;00m \u001b[39mnbinteract\u001b[39;00m\n",
      "File \u001b[0;32m~/anaconda3/envs/myenv/lib/python3.9/site-packages/nbinteract/__init__.py:12\u001b[0m\n\u001b[1;32m      9\u001b[0m warnings\u001b[39m.\u001b[39mfilterwarnings(\u001b[39m\"\u001b[39m\u001b[39mignore\u001b[39m\u001b[39m\"\u001b[39m, message\u001b[39m=\u001b[39m\u001b[39m\"\u001b[39m\u001b[39mnumpy.dtype size changed\u001b[39m\u001b[39m\"\u001b[39m)\n\u001b[1;32m     10\u001b[0m warnings\u001b[39m.\u001b[39mfilterwarnings(\u001b[39m\"\u001b[39m\u001b[39mignore\u001b[39m\u001b[39m\"\u001b[39m, message\u001b[39m=\u001b[39m\u001b[39m\"\u001b[39m\u001b[39mnumpy.ufunc size changed\u001b[39m\u001b[39m\"\u001b[39m)\n\u001b[0;32m---> 12\u001b[0m \u001b[39mfrom\u001b[39;00m \u001b[39m.\u001b[39;00m\u001b[39mexporters\u001b[39;00m \u001b[39mimport\u001b[39;00m \u001b[39m*\u001b[39m\n\u001b[1;32m     13\u001b[0m \u001b[39mfrom\u001b[39;00m \u001b[39m.\u001b[39;00m\u001b[39mplotting\u001b[39;00m \u001b[39mimport\u001b[39;00m \u001b[39m*\u001b[39m\n\u001b[1;32m     14\u001b[0m \u001b[39mfrom\u001b[39;00m \u001b[39m.\u001b[39;00m\u001b[39mquestions\u001b[39;00m \u001b[39mimport\u001b[39;00m \u001b[39m*\u001b[39m\n",
      "File \u001b[0;32m~/anaconda3/envs/myenv/lib/python3.9/site-packages/nbinteract/exporters.py:26\u001b[0m\n\u001b[1;32m     23\u001b[0m \u001b[39mfrom\u001b[39;00m \u001b[39msubprocess\u001b[39;00m \u001b[39mimport\u001b[39;00m check_output, STDOUT, CalledProcessError\n\u001b[1;32m     24\u001b[0m \u001b[39mfrom\u001b[39;00m \u001b[39mIPython\u001b[39;00m\u001b[39m.\u001b[39;00m\u001b[39mdisplay\u001b[39;00m \u001b[39mimport\u001b[39;00m display, Javascript, Markdown\n\u001b[0;32m---> 26\u001b[0m \u001b[39mfrom\u001b[39;00m \u001b[39mnbconvert\u001b[39;00m \u001b[39mimport\u001b[39;00m HTMLExporter\n\u001b[1;32m     27\u001b[0m \u001b[39mfrom\u001b[39;00m \u001b[39mtraitlets\u001b[39;00m \u001b[39mimport\u001b[39;00m default, Unicode, Bool, validate, TraitError\n\u001b[1;32m     29\u001b[0m SPEC_DIVIDER \u001b[39m=\u001b[39m \u001b[39m'\u001b[39m\u001b[39m/\u001b[39m\u001b[39m'\u001b[39m\n",
      "File \u001b[0;32m~/anaconda3/envs/myenv/lib/python3.9/site-packages/nbconvert/__init__.py:4\u001b[0m\n\u001b[1;32m      1\u001b[0m \u001b[39m\"\"\"Utilities for converting notebooks to and from different formats.\"\"\"\u001b[39;00m\n\u001b[1;32m      3\u001b[0m \u001b[39mfrom\u001b[39;00m \u001b[39m.\u001b[39;00m\u001b[39m_version\u001b[39;00m \u001b[39mimport\u001b[39;00m version_info, __version__\n\u001b[0;32m----> 4\u001b[0m \u001b[39mfrom\u001b[39;00m \u001b[39m.\u001b[39;00m\u001b[39mexporters\u001b[39;00m \u001b[39mimport\u001b[39;00m \u001b[39m*\u001b[39m\n\u001b[1;32m      5\u001b[0m \u001b[39mfrom\u001b[39;00m \u001b[39m.\u001b[39;00m \u001b[39mimport\u001b[39;00m filters\n\u001b[1;32m      6\u001b[0m \u001b[39mfrom\u001b[39;00m \u001b[39m.\u001b[39;00m \u001b[39mimport\u001b[39;00m preprocessors\n",
      "File \u001b[0;32m~/anaconda3/envs/myenv/lib/python3.9/site-packages/nbconvert/exporters/__init__.py:1\u001b[0m\n\u001b[0;32m----> 1\u001b[0m \u001b[39mfrom\u001b[39;00m \u001b[39m.\u001b[39;00m\u001b[39mbase\u001b[39;00m \u001b[39mimport\u001b[39;00m (export, get_exporter, \n\u001b[1;32m      2\u001b[0m                    ExporterNameError, get_export_names)\n\u001b[1;32m      3\u001b[0m \u001b[39mfrom\u001b[39;00m \u001b[39m.\u001b[39;00m\u001b[39mhtml\u001b[39;00m \u001b[39mimport\u001b[39;00m HTMLExporter\n\u001b[1;32m      4\u001b[0m \u001b[39mfrom\u001b[39;00m \u001b[39m.\u001b[39;00m\u001b[39mslides\u001b[39;00m \u001b[39mimport\u001b[39;00m SlidesExporter\n",
      "File \u001b[0;32m~/anaconda3/envs/myenv/lib/python3.9/site-packages/nbconvert/exporters/base.py:13\u001b[0m\n\u001b[1;32m     10\u001b[0m \u001b[39mfrom\u001b[39;00m \u001b[39mtraitlets\u001b[39;00m\u001b[39m.\u001b[39;00m\u001b[39mlog\u001b[39;00m \u001b[39mimport\u001b[39;00m get_logger\n\u001b[1;32m     11\u001b[0m \u001b[39mfrom\u001b[39;00m \u001b[39mtraitlets\u001b[39;00m\u001b[39m.\u001b[39;00m\u001b[39mutils\u001b[39;00m\u001b[39m.\u001b[39;00m\u001b[39mimportstring\u001b[39;00m \u001b[39mimport\u001b[39;00m import_item\n\u001b[0;32m---> 13\u001b[0m \u001b[39mfrom\u001b[39;00m \u001b[39mnbformat\u001b[39;00m \u001b[39mimport\u001b[39;00m NotebookNode\n\u001b[1;32m     14\u001b[0m \u001b[39mfrom\u001b[39;00m \u001b[39mipython_genutils\u001b[39;00m\u001b[39m.\u001b[39;00m\u001b[39mpy3compat\u001b[39;00m \u001b[39mimport\u001b[39;00m string_types\n\u001b[1;32m     16\u001b[0m \u001b[39mfrom\u001b[39;00m \u001b[39m.\u001b[39;00m\u001b[39mexporter\u001b[39;00m \u001b[39mimport\u001b[39;00m Exporter\n",
      "File \u001b[0;32m~/anaconda3/envs/myenv/lib/python3.9/site-packages/nbformat/__init__.py:14\u001b[0m\n\u001b[1;32m     11\u001b[0m \u001b[39mfrom\u001b[39;00m \u001b[39mtraitlets\u001b[39;00m\u001b[39m.\u001b[39;00m\u001b[39mlog\u001b[39;00m \u001b[39mimport\u001b[39;00m get_logger\n\u001b[1;32m     12\u001b[0m \u001b[39mfrom\u001b[39;00m \u001b[39m.\u001b[39;00m\u001b[39m_version\u001b[39;00m \u001b[39mimport\u001b[39;00m version_info, __version__\n\u001b[0;32m---> 14\u001b[0m \u001b[39mfrom\u001b[39;00m \u001b[39m.\u001b[39;00m \u001b[39mimport\u001b[39;00m v1\n\u001b[1;32m     15\u001b[0m \u001b[39mfrom\u001b[39;00m \u001b[39m.\u001b[39;00m \u001b[39mimport\u001b[39;00m v2\n\u001b[1;32m     16\u001b[0m \u001b[39mfrom\u001b[39;00m \u001b[39m.\u001b[39;00m \u001b[39mimport\u001b[39;00m v3\n",
      "File \u001b[0;32m~/anaconda3/envs/myenv/lib/python3.9/site-packages/nbformat/v1/__init__.py:19\u001b[0m\n\u001b[1;32m      3\u001b[0m \u001b[39m#-----------------------------------------------------------------------------\u001b[39;00m\n\u001b[1;32m      4\u001b[0m \u001b[39m#  Copyright (C) 2008-2011  The IPython Development Team\u001b[39;00m\n\u001b[1;32m      5\u001b[0m \u001b[39m#\u001b[39;00m\n\u001b[0;32m   (...)\u001b[0m\n\u001b[1;32m     11\u001b[0m \u001b[39m# Imports\u001b[39;00m\n\u001b[1;32m     12\u001b[0m \u001b[39m#-----------------------------------------------------------------------------\u001b[39;00m\n\u001b[1;32m     14\u001b[0m \u001b[39mfrom\u001b[39;00m \u001b[39m.\u001b[39;00m\u001b[39mnbbase\u001b[39;00m \u001b[39mimport\u001b[39;00m (\n\u001b[1;32m     15\u001b[0m     NotebookNode,\n\u001b[1;32m     16\u001b[0m     new_code_cell, new_text_cell, new_notebook\n\u001b[1;32m     17\u001b[0m )\n\u001b[0;32m---> 19\u001b[0m \u001b[39mfrom\u001b[39;00m \u001b[39m.\u001b[39;00m\u001b[39mnbjson\u001b[39;00m \u001b[39mimport\u001b[39;00m reads \u001b[39mas\u001b[39;00m reads_json, writes \u001b[39mas\u001b[39;00m writes_json\n\u001b[1;32m     20\u001b[0m \u001b[39mfrom\u001b[39;00m \u001b[39m.\u001b[39;00m\u001b[39mnbjson\u001b[39;00m \u001b[39mimport\u001b[39;00m reads \u001b[39mas\u001b[39;00m read_json, writes \u001b[39mas\u001b[39;00m write_json\n\u001b[1;32m     21\u001b[0m \u001b[39mfrom\u001b[39;00m \u001b[39m.\u001b[39;00m\u001b[39mnbjson\u001b[39;00m \u001b[39mimport\u001b[39;00m to_notebook \u001b[39mas\u001b[39;00m to_notebook_json\n",
      "File \u001b[0;32m~/anaconda3/envs/myenv/lib/python3.9/site-packages/nbformat/v1/nbjson.py:19\u001b[0m\n\u001b[1;32m      1\u001b[0m \u001b[39m\"\"\"Read and write notebooks in JSON format.\u001b[39;00m\n\u001b[1;32m      2\u001b[0m \n\u001b[1;32m      3\u001b[0m \u001b[39mAuthors:\u001b[39;00m\n\u001b[1;32m      4\u001b[0m \n\u001b[1;32m      5\u001b[0m \u001b[39m* Brian Granger\u001b[39;00m\n\u001b[1;32m      6\u001b[0m \u001b[39m\"\"\"\u001b[39;00m\n\u001b[1;32m      8\u001b[0m \u001b[39m#-----------------------------------------------------------------------------\u001b[39;00m\n\u001b[1;32m      9\u001b[0m \u001b[39m#  Copyright (C) 2008-2011  The IPython Development Team\u001b[39;00m\n\u001b[1;32m     10\u001b[0m \u001b[39m#\u001b[39;00m\n\u001b[0;32m   (...)\u001b[0m\n\u001b[1;32m     16\u001b[0m \u001b[39m# Imports\u001b[39;00m\n\u001b[1;32m     17\u001b[0m \u001b[39m#-----------------------------------------------------------------------------\u001b[39;00m\n\u001b[0;32m---> 19\u001b[0m \u001b[39mfrom\u001b[39;00m \u001b[39mbase64\u001b[39;00m \u001b[39mimport\u001b[39;00m encodestring\n\u001b[1;32m     20\u001b[0m \u001b[39mfrom\u001b[39;00m \u001b[39m.\u001b[39;00m\u001b[39mrwbase\u001b[39;00m \u001b[39mimport\u001b[39;00m NotebookReader, NotebookWriter\n\u001b[1;32m     21\u001b[0m \u001b[39mfrom\u001b[39;00m \u001b[39m.\u001b[39;00m\u001b[39mnbbase\u001b[39;00m \u001b[39mimport\u001b[39;00m from_dict\n",
      "\u001b[0;31mImportError\u001b[0m: cannot import name 'encodestring' from 'base64' (/Users/christina/anaconda3/envs/myenv/lib/python3.9/base64.py)"
     ]
    }
   ],
   "source": [
    "import nbinteract"
   ]
  },
  {
   "cell_type": "code",
   "execution_count": 1,
   "metadata": {},
   "outputs": [],
   "source": [
    "from ipywidgets import interact\n"
   ]
  },
  {
   "cell_type": "code",
   "execution_count": 2,
   "metadata": {},
   "outputs": [],
   "source": [
    "def square(x):\n",
    "    return x * x"
   ]
  },
  {
   "cell_type": "code",
   "execution_count": 3,
   "metadata": {},
   "outputs": [
    {
     "data": {
      "application/vnd.jupyter.widget-view+json": {
       "model_id": "44af02a2e81c4e91ba19af83c839cb36",
       "version_major": 2,
       "version_minor": 0
      },
      "text/plain": [
       "interactive(children=(IntSlider(value=10, description='x', max=30, min=-10), Output()), _dom_classes=('widget-…"
      ]
     },
     "metadata": {},
     "output_type": "display_data"
    }
   ],
   "source": [
    "interact(square, x=10);\n"
   ]
  },
  {
   "cell_type": "code",
   "execution_count": null,
   "metadata": {},
   "outputs": [],
   "source": []
  }
 ],
 "metadata": {
  "kernelspec": {
   "display_name": "myenv",
   "language": "python",
   "name": "python3"
  },
  "language_info": {
   "codemirror_mode": {
    "name": "ipython",
    "version": 3
   },
   "file_extension": ".py",
   "mimetype": "text/x-python",
   "name": "python",
   "nbconvert_exporter": "python",
   "pygments_lexer": "ipython3",
   "version": "3.9.16"
  },
  "orig_nbformat": 4
 },
 "nbformat": 4,
 "nbformat_minor": 2
}
