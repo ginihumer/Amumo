{
 "cells": [
  {
   "cell_type": "code",
   "execution_count": null,
   "id": "initial_id",
   "metadata": {
    "ExecuteTime": {
     "end_time": "2023-12-07T12:22:13.710359800Z",
     "start_time": "2023-12-07T12:22:11.704600Z"
    }
   },
   "outputs": [],
   "source": [
    "import numpy as np\n",
    "import pandas as pd\n",
    "import sys\n",
    "import os\n",
    "import torch\n",
    "sys.path.insert(0, os.path.abspath(\"src/\"))\n",
    "\n",
    "device = \"cuda\" if torch.cuda.is_available() else \"cpu\""
   ]
  },
  {
   "cell_type": "code",
   "execution_count": null,
   "id": "41cdfdf0",
   "metadata": {},
   "outputs": [],
   "source": [
    "from data_utils import CLOOMDataset_Dataset\n",
    "from model_utils import PrecalculatedModel"
   ]
  },
  {
   "cell_type": "code",
   "execution_count": null,
   "id": "3390cb35-4bee-430c-8d9d-8281490de710",
   "metadata": {},
   "outputs": [],
   "source": [
    "from amumo import model as am_model\n",
    "from amumo import data as am_data\n",
    "from amumo import widgets as am_widgets\n",
    "from amumo import utils as am_utils"
   ]
  },
  {
   "cell_type": "code",
   "execution_count": null,
   "id": "7f393a7a-57cc-4710-be55-624994eaa64b",
   "metadata": {},
   "outputs": [],
   "source": [
    "current_directory = os.path.abspath('.')  # Get the absolute path of the current directory\n",
    "parent_directory = os.path.dirname(current_directory)  # Get the directory name one level up\n",
    "basepath = parent_directory\n",
    "datapath = os.path.join(basepath, \"amumo/data\")\n",
    "batch_size = 100\n",
    "seed = 31415"
   ]
  },
  {
   "cell_type": "code",
   "execution_count": null,
   "id": "94af44a9-5eec-49a1-b04b-26fbe175aa7c",
   "metadata": {},
   "outputs": [],
   "source": [
    "# Load Data\n",
    "dataset_cloome = CLOOMDataset_Dataset(datapath,seed,batch_size)\n",
    "cloome_images, cloome_molecules, cloome_dataset_name = dataset_cloome.get_data()\n",
    "cloome_dataset_name"
   ]
  },
  {
   "cell_type": "code",
   "execution_count": null,
   "id": "ef613a00",
   "metadata": {},
   "outputs": [],
   "source": [
    "def get_features(molecule_features, image_features):\n",
    "    # molecule features\n",
    "    mol_features_torch = torch.load(molecule_features, map_location=device)\n",
    "    mol_features = mol_features_torch[\"mol_features\"]\n",
    "    mol_ids = mol_features_torch[\"mol_ids\"]\n",
    "\n",
    "    # microscopy features\n",
    "    img_features_torch = torch.load(image_features, map_location=device)\n",
    "    img_features = img_features_torch[\"img_features\"]\n",
    "    img_ids = img_features_torch[\"img_ids\"]\n",
    "\n",
    "    # extract subsets of features\n",
    "    img_feature_idcs = [np.where(np.array(img_features_torch[\"img_ids\"])==i)[0][0] for i in dataset_cloome.dataset[\"SAMPLE_KEY_img\"].values]\n",
    "    mol_feature_idcs = [np.where(np.array(mol_features_torch[\"mol_ids\"])==i)[0][0] for i in dataset_cloome.dataset[\"SAMPLE_KEY_mol\"].values]\n",
    "\n",
    "    mol_features_sample = mol_features_torch['mol_features'][mol_feature_idcs]\n",
    "    mol_features_sample = mol_features_sample.cpu()\n",
    "    mol_features_sample = am_utils.l2_norm(mol_features_sample)\n",
    "\n",
    "    img_features_sample = img_features_torch['img_features'][img_feature_idcs]\n",
    "    img_features_sample = img_features_sample.cpu()\n",
    "    img_features_sample = am_utils.l2_norm(img_features_sample)\n",
    "    \n",
    "    return mol_features_sample, img_features_sample"
   ]
  },
  {
   "cell_type": "code",
   "execution_count": null,
   "id": "bb121511-52b0-4b38-bcae-00364286131a",
   "metadata": {},
   "outputs": [],
   "source": [
    "molecule_features_cloob = \"/.../cloob_2022-04-09-09-47-00_mol_embedings_test.pkl\"\n",
    "image_features_cloob = \"/.../cloob_2022-04-09-09-47-00_img_embedings_test.pkl\"\n",
    "\n",
    "molecule_features_clip = \"/.../clip_2022-04-13-16-14-59_mol_embedings_test.pkl\"\n",
    "image_features_clip = \"/.../clip_2022-04-13-16-14-59_img_embedings_test.pkl\"\n",
    "\n",
    "molecule_features_cloob_sample, image_features_cloob_sample = get_features(molecule_features_cloob, image_features_cloob)\n",
    "molecule_features_clip_sample, image_features_clip_sample = get_features(molecule_features_clip, image_features_clip)"
   ]
  },
  {
   "cell_type": "code",
   "execution_count": null,
   "id": "2ce7f701-ed56-41be-977d-a0fb0ca11978",
   "metadata": {
    "scrolled": false
   },
   "outputs": [],
   "source": [
    "cloob_model = am_model.PrecalculatedModel('precalculated_cloob', cloome_dataset_name, image_features_cloob_sample, molecule_features_cloob_sample)\n",
    "cloob_widget = am_widgets.CLIPExplorerWidget(cloome_dataset_name, cloome_images, cloome_molecules, models=[cloob_model])\n",
    "cloob_widget"
   ]
  },
  {
   "cell_type": "code",
   "execution_count": null,
   "id": "4e4384cc-46d3-45d4-9bb0-463f66b489a5",
   "metadata": {
    "scrolled": false
   },
   "outputs": [],
   "source": [
    "clip_model = am_model.PrecalculatedModel('precalculated_clip', cloome_dataset_name, image_features_clip_sample, molecule_features_clip_sample)\n",
    "clip_widget = am_widgets.CLIPExplorerWidget(cloome_dataset_name, cloome_images, cloome_molecules, models=[clip_model])\n",
    "clip_model"
   ]
  }
 ],
 "metadata": {
  "kernelspec": {
   "display_name": "Python 3 (ipykernel)",
   "language": "python",
   "name": "python3"
  },
  "language_info": {
   "codemirror_mode": {
    "name": "ipython",
    "version": 3
   },
   "file_extension": ".py",
   "mimetype": "text/x-python",
   "name": "python",
   "nbconvert_exporter": "python",
   "pygments_lexer": "ipython3",
   "version": "3.9.7"
  }
 },
 "nbformat": 4,
 "nbformat_minor": 5
}
