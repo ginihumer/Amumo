{
 "cells": [
  {
   "cell_type": "code",
   "execution_count": null,
   "metadata": {},
   "outputs": [],
   "source": [
    "# ! pip list\n",
    "# ! pip freeze > requirements.txt"
   ]
  },
  {
   "cell_type": "code",
   "execution_count": null,
   "metadata": {},
   "outputs": [],
   "source": [
    "\n",
    "! pip install git+https://github.com/ginihumer/CLIP-explorer.git"
   ]
  },
  {
   "cell_type": "code",
   "execution_count": null,
   "metadata": {},
   "outputs": [],
   "source": [
    "import clipexplorer"
   ]
  },
  {
   "cell_type": "code",
   "execution_count": null,
   "metadata": {},
   "outputs": [],
   "source": [
    "from clipexplorer import model\n",
    "from clipexplorer import data"
   ]
  },
  {
   "cell_type": "code",
   "execution_count": null,
   "metadata": {},
   "outputs": [],
   "source": [
    "checkpoints = {\n",
    "    'cyclip-3M.pt': 'https://drive.google.com/uc?id=1nF33F3yjtiWr3bgllBXk5Wf07Uo7Uv9G&export=download&confirm=9_s_'\n",
    "}"
   ]
  },
  {
   "cell_type": "code",
   "execution_count": null,
   "metadata": {},
   "outputs": [],
   "source": [
    "import requests\n",
    "requests.get('https://drive.google.com/drive/u/0/folders/1V-q0qaSx2Q2PBoisLXc8hZdrofm0Rw9Q').raw"
   ]
  },
  {
   "cell_type": "code",
   "execution_count": null,
   "metadata": {},
   "outputs": [],
   "source": [
    "checkpoint = self.checkpoints_dir + '/cyclip-3M.pt' # 'i-cyclip.pt', 'c-cyclip.pt'\n",
    "\n",
    "state_dict = torch.load(checkpoint, map_location = device)[\"state_dict\"]"
   ]
  },
  {
   "cell_type": "code",
   "execution_count": null,
   "metadata": {},
   "outputs": [],
   "source": [
    "! pip install gdown\n"
   ]
  },
  {
   "cell_type": "code",
   "execution_count": null,
   "metadata": {},
   "outputs": [],
   "source": [
    "import gdown\n",
    "url = 'https://drive.google.com/drive/u/0/folders/1V-q0qaSx2Q2PBoisLXc8hZdrofm0Rw9Q'\n",
    "output = 'test'\n",
    "gdown.download(url, output, quiet=False)"
   ]
  },
  {
   "cell_type": "code",
   "execution_count": null,
   "metadata": {},
   "outputs": [],
   "source": [
    "import requests\n",
    "# Getting the File id\n",
    "file1_id = '1-JzJ5MIVuKG6Vhg5tA1ATh185WmXUqWL'\n",
    "file2_id = '1LWVnOp1rw4g9SYswuf8IPAHBoOnWOTF0'\n",
    "\n",
    "# Requesting data\n",
    "file1 = requests.get('https://drive.google.com/uc?export=download&confirm=9_s_&id=' + file1_id)\n",
    "file2 = requests.get('https://drive.google.com/uc?export=download&confirm=9_s_&id=' + file2_id)\n",
    "\n",
    "# Saving data\n",
    "open('glove.6B.300d.txt', 'wb').write(file1.content)\n",
    "open('Sarcasm_Headlines_Dataset.json', 'wb').write(file2.content)"
   ]
  },
  {
   "cell_type": "code",
   "execution_count": null,
   "metadata": {},
   "outputs": [],
   "source": [
    "file = requests.get('https://drive.google.com/uc?id=1nF33F3yjtiWr3bgllBXk5Wf07Uo7Uv9G&export=download&confirm=9_s_')\n",
    "open('test.txt', 'wb').write(file.content)"
   ]
  },
  {
   "cell_type": "code",
   "execution_count": null,
   "metadata": {},
   "outputs": [],
   "source": []
  },
  {
   "cell_type": "code",
   "execution_count": 1,
   "metadata": {},
   "outputs": [
    {
     "data": {
      "text/plain": [
       "'5.5.6'"
      ]
     },
     "execution_count": 1,
     "metadata": {},
     "output_type": "execute_result"
    }
   ],
   "source": [
    "import ipykernel\n",
    "ipykernel.__version__"
   ]
  },
  {
   "cell_type": "code",
   "execution_count": 8,
   "metadata": {},
   "outputs": [
    {
     "name": "stdout",
     "output_type": "stream",
     "text": [
      "Collecting ipykernel==5.5.6\n",
      "  Downloading ipykernel-5.5.6-py3-none-any.whl (121 kB)\n",
      "\u001b[2K     \u001b[90m━━━━━━━━━━━━━━━━━━━━━━━━━━━━━━━━━━━━━━━\u001b[0m \u001b[32m121.0/121.0 kB\u001b[0m \u001b[31m1.8 MB/s\u001b[0m eta \u001b[36m0:00:00\u001b[0ma \u001b[36m0:00:01\u001b[0m\n",
      "\u001b[?25hRequirement already satisfied: ipython-genutils in /Users/christina/anaconda3/envs/myenv/lib/python3.9/site-packages (from ipykernel==5.5.6) (0.2.0)\n",
      "Requirement already satisfied: ipython>=5.0.0 in /Users/christina/anaconda3/envs/myenv/lib/python3.9/site-packages (from ipykernel==5.5.6) (8.13.2)\n",
      "Requirement already satisfied: traitlets>=4.1.0 in /Users/christina/anaconda3/envs/myenv/lib/python3.9/site-packages (from ipykernel==5.5.6) (5.7.1)\n",
      "Requirement already satisfied: jupyter-client in /Users/christina/anaconda3/envs/myenv/lib/python3.9/site-packages (from ipykernel==5.5.6) (8.2.0)\n",
      "Requirement already satisfied: tornado>=4.2 in /Users/christina/anaconda3/envs/myenv/lib/python3.9/site-packages (from ipykernel==5.5.6) (6.3.2)\n",
      "Requirement already satisfied: appnope in /Users/christina/anaconda3/envs/myenv/lib/python3.9/site-packages (from ipykernel==5.5.6) (0.1.3)\n",
      "Requirement already satisfied: backcall in /Users/christina/anaconda3/envs/myenv/lib/python3.9/site-packages (from ipython>=5.0.0->ipykernel==5.5.6) (0.2.0)\n",
      "Requirement already satisfied: decorator in /Users/christina/anaconda3/envs/myenv/lib/python3.9/site-packages (from ipython>=5.0.0->ipykernel==5.5.6) (5.1.1)\n",
      "Requirement already satisfied: jedi>=0.16 in /Users/christina/anaconda3/envs/myenv/lib/python3.9/site-packages (from ipython>=5.0.0->ipykernel==5.5.6) (0.18.2)\n",
      "Requirement already satisfied: matplotlib-inline in /Users/christina/anaconda3/envs/myenv/lib/python3.9/site-packages (from ipython>=5.0.0->ipykernel==5.5.6) (0.1.6)\n",
      "Requirement already satisfied: pickleshare in /Users/christina/anaconda3/envs/myenv/lib/python3.9/site-packages (from ipython>=5.0.0->ipykernel==5.5.6) (0.7.5)\n",
      "Requirement already satisfied: prompt-toolkit!=3.0.37,<3.1.0,>=3.0.30 in /Users/christina/anaconda3/envs/myenv/lib/python3.9/site-packages (from ipython>=5.0.0->ipykernel==5.5.6) (3.0.38)\n",
      "Requirement already satisfied: pygments>=2.4.0 in /Users/christina/anaconda3/envs/myenv/lib/python3.9/site-packages (from ipython>=5.0.0->ipykernel==5.5.6) (2.15.1)\n",
      "Requirement already satisfied: stack-data in /Users/christina/anaconda3/envs/myenv/lib/python3.9/site-packages (from ipython>=5.0.0->ipykernel==5.5.6) (0.6.2)\n",
      "Requirement already satisfied: typing-extensions in /Users/christina/anaconda3/envs/myenv/lib/python3.9/site-packages (from ipython>=5.0.0->ipykernel==5.5.6) (4.6.0)\n",
      "Requirement already satisfied: pexpect>4.3 in /Users/christina/anaconda3/envs/myenv/lib/python3.9/site-packages (from ipython>=5.0.0->ipykernel==5.5.6) (4.8.0)\n",
      "Requirement already satisfied: importlib-metadata>=4.8.3 in /Users/christina/anaconda3/envs/myenv/lib/python3.9/site-packages (from jupyter-client->ipykernel==5.5.6) (6.6.0)\n",
      "Requirement already satisfied: jupyter-core!=5.0.*,>=4.12 in /Users/christina/anaconda3/envs/myenv/lib/python3.9/site-packages (from jupyter-client->ipykernel==5.5.6) (5.3.0)\n",
      "Requirement already satisfied: python-dateutil>=2.8.2 in /Users/christina/anaconda3/envs/myenv/lib/python3.9/site-packages (from jupyter-client->ipykernel==5.5.6) (2.8.2)\n",
      "Requirement already satisfied: pyzmq>=23.0 in /Users/christina/anaconda3/envs/myenv/lib/python3.9/site-packages (from jupyter-client->ipykernel==5.5.6) (25.0.2)\n",
      "Requirement already satisfied: zipp>=0.5 in /Users/christina/anaconda3/envs/myenv/lib/python3.9/site-packages (from importlib-metadata>=4.8.3->jupyter-client->ipykernel==5.5.6) (3.15.0)\n",
      "Requirement already satisfied: parso<0.9.0,>=0.8.0 in /Users/christina/anaconda3/envs/myenv/lib/python3.9/site-packages (from jedi>=0.16->ipython>=5.0.0->ipykernel==5.5.6) (0.8.3)\n",
      "Requirement already satisfied: platformdirs>=2.5 in /Users/christina/anaconda3/envs/myenv/lib/python3.9/site-packages (from jupyter-core!=5.0.*,>=4.12->jupyter-client->ipykernel==5.5.6) (3.5.1)\n",
      "Requirement already satisfied: ptyprocess>=0.5 in /Users/christina/anaconda3/envs/myenv/lib/python3.9/site-packages (from pexpect>4.3->ipython>=5.0.0->ipykernel==5.5.6) (0.7.0)\n",
      "Requirement already satisfied: wcwidth in /Users/christina/anaconda3/envs/myenv/lib/python3.9/site-packages (from prompt-toolkit!=3.0.37,<3.1.0,>=3.0.30->ipython>=5.0.0->ipykernel==5.5.6) (0.2.6)\n",
      "Requirement already satisfied: six>=1.5 in /Users/christina/anaconda3/envs/myenv/lib/python3.9/site-packages (from python-dateutil>=2.8.2->jupyter-client->ipykernel==5.5.6) (1.16.0)\n",
      "Requirement already satisfied: executing>=1.2.0 in /Users/christina/anaconda3/envs/myenv/lib/python3.9/site-packages (from stack-data->ipython>=5.0.0->ipykernel==5.5.6) (1.2.0)\n",
      "Requirement already satisfied: asttokens>=2.1.0 in /Users/christina/anaconda3/envs/myenv/lib/python3.9/site-packages (from stack-data->ipython>=5.0.0->ipykernel==5.5.6) (2.2.1)\n",
      "Requirement already satisfied: pure-eval in /Users/christina/anaconda3/envs/myenv/lib/python3.9/site-packages (from stack-data->ipython>=5.0.0->ipykernel==5.5.6) (0.2.2)\n",
      "Installing collected packages: ipykernel\n",
      "  Attempting uninstall: ipykernel\n",
      "    Found existing installation: ipykernel 6.23.1\n",
      "    Uninstalling ipykernel-6.23.1:\n",
      "      Successfully uninstalled ipykernel-6.23.1\n",
      "Successfully installed ipykernel-5.5.6\n"
     ]
    }
   ],
   "source": [
    "! pip install ipykernel==5.5.6"
   ]
  },
  {
   "cell_type": "code",
   "execution_count": 1,
   "metadata": {},
   "outputs": [
    {
     "data": {
      "text/plain": [
       "'5.7.1'"
      ]
     },
     "execution_count": 1,
     "metadata": {},
     "output_type": "execute_result"
    }
   ],
   "source": [
    "import traitlets\n",
    "traitlets.__version__"
   ]
  },
  {
   "cell_type": "code",
   "execution_count": 10,
   "metadata": {},
   "outputs": [
    {
     "name": "stdout",
     "output_type": "stream",
     "text": [
      "Collecting traitlets==5.7.1\n",
      "  Downloading traitlets-5.7.1-py3-none-any.whl (109 kB)\n",
      "\u001b[2K     \u001b[90m━━━━━━━━━━━━━━━━━━━━━━━━━━━━━━━━━━━━━━━\u001b[0m \u001b[32m109.9/109.9 kB\u001b[0m \u001b[31m1.8 MB/s\u001b[0m eta \u001b[36m0:00:00\u001b[0ma \u001b[36m0:00:01\u001b[0m\n",
      "\u001b[?25hInstalling collected packages: traitlets\n",
      "  Attempting uninstall: traitlets\n",
      "    Found existing installation: traitlets 5.9.0\n",
      "    Uninstalling traitlets-5.9.0:\n",
      "      Successfully uninstalled traitlets-5.9.0\n",
      "Successfully installed traitlets-5.7.1\n"
     ]
    }
   ],
   "source": [
    "! pip install traitlets==5.7.1"
   ]
  },
  {
   "cell_type": "code",
   "execution_count": 1,
   "metadata": {},
   "outputs": [
    {
     "data": {
      "text/plain": [
       "'7.7.1'"
      ]
     },
     "execution_count": 1,
     "metadata": {},
     "output_type": "execute_result"
    }
   ],
   "source": [
    "import ipywidgets\n",
    "ipywidgets.__version__"
   ]
  },
  {
   "cell_type": "code",
   "execution_count": 10,
   "metadata": {},
   "outputs": [
    {
     "name": "stdout",
     "output_type": "stream",
     "text": [
      "Collecting ipywidgets==7.7.1\n",
      "  Downloading ipywidgets-7.7.1-py2.py3-none-any.whl (123 kB)\n",
      "\u001b[2K     \u001b[90m━━━━━━━━━━━━━━━━━━━━━━━━━━━━━━━━━━━━━━━\u001b[0m \u001b[32m123.4/123.4 kB\u001b[0m \u001b[31m1.8 MB/s\u001b[0m eta \u001b[36m0:00:00\u001b[0m00:01\u001b[0m\n",
      "\u001b[?25hRequirement already satisfied: ipykernel>=4.5.1 in /Users/christina/anaconda3/envs/myenv/lib/python3.9/site-packages (from ipywidgets==7.7.1) (6.23.1)\n",
      "Collecting ipython-genutils~=0.2.0 (from ipywidgets==7.7.1)\n",
      "  Downloading ipython_genutils-0.2.0-py2.py3-none-any.whl (26 kB)\n",
      "Requirement already satisfied: traitlets>=4.3.1 in /Users/christina/anaconda3/envs/myenv/lib/python3.9/site-packages (from ipywidgets==7.7.1) (5.9.0)\n",
      "Collecting widgetsnbextension~=3.6.0 (from ipywidgets==7.7.1)\n",
      "  Downloading widgetsnbextension-3.6.4-py2.py3-none-any.whl (1.6 MB)\n",
      "\u001b[2K     \u001b[90m━━━━━━━━━━━━━━━━━━━━━━━━━━━━━━━━━━━━━━━━\u001b[0m \u001b[32m1.6/1.6 MB\u001b[0m \u001b[31m5.7 MB/s\u001b[0m eta \u001b[36m0:00:00\u001b[0m00:01\u001b[0m00:01\u001b[0m\n",
      "\u001b[?25hRequirement already satisfied: ipython>=4.0.0 in /Users/christina/anaconda3/envs/myenv/lib/python3.9/site-packages (from ipywidgets==7.7.1) (8.13.2)\n",
      "Requirement already satisfied: jupyterlab-widgets>=1.0.0 in /Users/christina/anaconda3/envs/myenv/lib/python3.9/site-packages (from ipywidgets==7.7.1) (3.0.7)\n",
      "Requirement already satisfied: appnope in /Users/christina/anaconda3/envs/myenv/lib/python3.9/site-packages (from ipykernel>=4.5.1->ipywidgets==7.7.1) (0.1.3)\n",
      "Requirement already satisfied: comm>=0.1.1 in /Users/christina/anaconda3/envs/myenv/lib/python3.9/site-packages (from ipykernel>=4.5.1->ipywidgets==7.7.1) (0.1.3)\n",
      "Requirement already satisfied: debugpy>=1.6.5 in /Users/christina/anaconda3/envs/myenv/lib/python3.9/site-packages (from ipykernel>=4.5.1->ipywidgets==7.7.1) (1.6.7)\n",
      "Requirement already satisfied: jupyter-client>=6.1.12 in /Users/christina/anaconda3/envs/myenv/lib/python3.9/site-packages (from ipykernel>=4.5.1->ipywidgets==7.7.1) (8.2.0)\n",
      "Requirement already satisfied: jupyter-core!=5.0.*,>=4.12 in /Users/christina/anaconda3/envs/myenv/lib/python3.9/site-packages (from ipykernel>=4.5.1->ipywidgets==7.7.1) (5.3.0)\n",
      "Requirement already satisfied: matplotlib-inline>=0.1 in /Users/christina/anaconda3/envs/myenv/lib/python3.9/site-packages (from ipykernel>=4.5.1->ipywidgets==7.7.1) (0.1.6)\n",
      "Requirement already satisfied: nest-asyncio in /Users/christina/anaconda3/envs/myenv/lib/python3.9/site-packages (from ipykernel>=4.5.1->ipywidgets==7.7.1) (1.5.6)\n",
      "Requirement already satisfied: packaging in /Users/christina/anaconda3/envs/myenv/lib/python3.9/site-packages (from ipykernel>=4.5.1->ipywidgets==7.7.1) (23.1)\n",
      "Requirement already satisfied: psutil in /Users/christina/anaconda3/envs/myenv/lib/python3.9/site-packages (from ipykernel>=4.5.1->ipywidgets==7.7.1) (5.9.5)\n",
      "Requirement already satisfied: pyzmq>=20 in /Users/christina/anaconda3/envs/myenv/lib/python3.9/site-packages (from ipykernel>=4.5.1->ipywidgets==7.7.1) (25.0.2)\n",
      "Requirement already satisfied: tornado>=6.1 in /Users/christina/anaconda3/envs/myenv/lib/python3.9/site-packages (from ipykernel>=4.5.1->ipywidgets==7.7.1) (6.3.2)\n",
      "Requirement already satisfied: backcall in /Users/christina/anaconda3/envs/myenv/lib/python3.9/site-packages (from ipython>=4.0.0->ipywidgets==7.7.1) (0.2.0)\n",
      "Requirement already satisfied: decorator in /Users/christina/anaconda3/envs/myenv/lib/python3.9/site-packages (from ipython>=4.0.0->ipywidgets==7.7.1) (5.1.1)\n",
      "Requirement already satisfied: jedi>=0.16 in /Users/christina/anaconda3/envs/myenv/lib/python3.9/site-packages (from ipython>=4.0.0->ipywidgets==7.7.1) (0.18.2)\n",
      "Requirement already satisfied: pickleshare in /Users/christina/anaconda3/envs/myenv/lib/python3.9/site-packages (from ipython>=4.0.0->ipywidgets==7.7.1) (0.7.5)\n",
      "Requirement already satisfied: prompt-toolkit!=3.0.37,<3.1.0,>=3.0.30 in /Users/christina/anaconda3/envs/myenv/lib/python3.9/site-packages (from ipython>=4.0.0->ipywidgets==7.7.1) (3.0.38)\n",
      "Requirement already satisfied: pygments>=2.4.0 in /Users/christina/anaconda3/envs/myenv/lib/python3.9/site-packages (from ipython>=4.0.0->ipywidgets==7.7.1) (2.15.1)\n",
      "Requirement already satisfied: stack-data in /Users/christina/anaconda3/envs/myenv/lib/python3.9/site-packages (from ipython>=4.0.0->ipywidgets==7.7.1) (0.6.2)\n",
      "Requirement already satisfied: typing-extensions in /Users/christina/anaconda3/envs/myenv/lib/python3.9/site-packages (from ipython>=4.0.0->ipywidgets==7.7.1) (4.6.0)\n",
      "Requirement already satisfied: pexpect>4.3 in /Users/christina/anaconda3/envs/myenv/lib/python3.9/site-packages (from ipython>=4.0.0->ipywidgets==7.7.1) (4.8.0)\n",
      "Collecting notebook>=4.4.1 (from widgetsnbextension~=3.6.0->ipywidgets==7.7.1)\n",
      "  Downloading notebook-6.5.4-py3-none-any.whl (529 kB)\n",
      "\u001b[2K     \u001b[90m━━━━━━━━━━━━━━━━━━━━━━━━━━━━━━━━━━━━━━━\u001b[0m \u001b[32m529.8/529.8 kB\u001b[0m \u001b[31m7.3 MB/s\u001b[0m eta \u001b[36m0:00:00\u001b[0ma \u001b[36m0:00:01\u001b[0m\n",
      "\u001b[?25hRequirement already satisfied: parso<0.9.0,>=0.8.0 in /Users/christina/anaconda3/envs/myenv/lib/python3.9/site-packages (from jedi>=0.16->ipython>=4.0.0->ipywidgets==7.7.1) (0.8.3)\n",
      "Requirement already satisfied: importlib-metadata>=4.8.3 in /Users/christina/anaconda3/envs/myenv/lib/python3.9/site-packages (from jupyter-client>=6.1.12->ipykernel>=4.5.1->ipywidgets==7.7.1) (6.6.0)\n",
      "Requirement already satisfied: python-dateutil>=2.8.2 in /Users/christina/anaconda3/envs/myenv/lib/python3.9/site-packages (from jupyter-client>=6.1.12->ipykernel>=4.5.1->ipywidgets==7.7.1) (2.8.2)\n",
      "Requirement already satisfied: platformdirs>=2.5 in /Users/christina/anaconda3/envs/myenv/lib/python3.9/site-packages (from jupyter-core!=5.0.*,>=4.12->ipykernel>=4.5.1->ipywidgets==7.7.1) (3.5.1)\n",
      "Requirement already satisfied: jinja2 in /Users/christina/anaconda3/envs/myenv/lib/python3.9/site-packages (from notebook>=4.4.1->widgetsnbextension~=3.6.0->ipywidgets==7.7.1) (3.1.2)\n",
      "Collecting argon2-cffi (from notebook>=4.4.1->widgetsnbextension~=3.6.0->ipywidgets==7.7.1)\n",
      "  Downloading argon2_cffi-21.3.0-py3-none-any.whl (14 kB)\n",
      "Collecting nbformat (from notebook>=4.4.1->widgetsnbextension~=3.6.0->ipywidgets==7.7.1)\n",
      "  Using cached nbformat-5.8.0-py3-none-any.whl (77 kB)\n",
      "Collecting nbconvert>=5 (from notebook>=4.4.1->widgetsnbextension~=3.6.0->ipywidgets==7.7.1)\n",
      "  Downloading nbconvert-7.4.0-py3-none-any.whl (285 kB)\n",
      "\u001b[2K     \u001b[90m━━━━━━━━━━━━━━━━━━━━━━━━━━━━━━━━━━━━━━━\u001b[0m \u001b[32m285.9/285.9 kB\u001b[0m \u001b[31m5.2 MB/s\u001b[0m eta \u001b[36m0:00:00\u001b[0ma \u001b[36m0:00:01\u001b[0m\n",
      "\u001b[?25hCollecting Send2Trash>=1.8.0 (from notebook>=4.4.1->widgetsnbextension~=3.6.0->ipywidgets==7.7.1)\n",
      "  Downloading Send2Trash-1.8.2-py3-none-any.whl (18 kB)\n",
      "Collecting terminado>=0.8.3 (from notebook>=4.4.1->widgetsnbextension~=3.6.0->ipywidgets==7.7.1)\n",
      "  Downloading terminado-0.17.1-py3-none-any.whl (17 kB)\n",
      "Collecting prometheus-client (from notebook>=4.4.1->widgetsnbextension~=3.6.0->ipywidgets==7.7.1)\n",
      "  Downloading prometheus_client-0.16.0-py3-none-any.whl (122 kB)\n",
      "\u001b[2K     \u001b[90m━━━━━━━━━━━━━━━━━━━━━━━━━━━━━━━━━━━━━━━\u001b[0m \u001b[32m122.5/122.5 kB\u001b[0m \u001b[31m3.4 MB/s\u001b[0m eta \u001b[36m0:00:00\u001b[0m\n",
      "\u001b[?25hCollecting nbclassic>=0.4.7 (from notebook>=4.4.1->widgetsnbextension~=3.6.0->ipywidgets==7.7.1)\n",
      "  Downloading nbclassic-1.0.0-py3-none-any.whl (10.0 MB)\n",
      "\u001b[2K     \u001b[90m━━━━━━━━━━━━━━━━━━━━━━━━━━━━━━━━━━━━━━━━\u001b[0m \u001b[32m10.0/10.0 MB\u001b[0m \u001b[31m7.9 MB/s\u001b[0m eta \u001b[36m0:00:00\u001b[0m00:01\u001b[0m0:01\u001b[0mm\n",
      "\u001b[?25hRequirement already satisfied: ptyprocess>=0.5 in /Users/christina/anaconda3/envs/myenv/lib/python3.9/site-packages (from pexpect>4.3->ipython>=4.0.0->ipywidgets==7.7.1) (0.7.0)\n",
      "Requirement already satisfied: wcwidth in /Users/christina/anaconda3/envs/myenv/lib/python3.9/site-packages (from prompt-toolkit!=3.0.37,<3.1.0,>=3.0.30->ipython>=4.0.0->ipywidgets==7.7.1) (0.2.6)\n",
      "Requirement already satisfied: executing>=1.2.0 in /Users/christina/anaconda3/envs/myenv/lib/python3.9/site-packages (from stack-data->ipython>=4.0.0->ipywidgets==7.7.1) (1.2.0)\n",
      "Requirement already satisfied: asttokens>=2.1.0 in /Users/christina/anaconda3/envs/myenv/lib/python3.9/site-packages (from stack-data->ipython>=4.0.0->ipywidgets==7.7.1) (2.2.1)\n",
      "Requirement already satisfied: pure-eval in /Users/christina/anaconda3/envs/myenv/lib/python3.9/site-packages (from stack-data->ipython>=4.0.0->ipywidgets==7.7.1) (0.2.2)\n",
      "Requirement already satisfied: six in /Users/christina/anaconda3/envs/myenv/lib/python3.9/site-packages (from asttokens>=2.1.0->stack-data->ipython>=4.0.0->ipywidgets==7.7.1) (1.16.0)\n",
      "Requirement already satisfied: zipp>=0.5 in /Users/christina/anaconda3/envs/myenv/lib/python3.9/site-packages (from importlib-metadata>=4.8.3->jupyter-client>=6.1.12->ipykernel>=4.5.1->ipywidgets==7.7.1) (3.15.0)\n",
      "Collecting jupyter-server>=1.8 (from nbclassic>=0.4.7->notebook>=4.4.1->widgetsnbextension~=3.6.0->ipywidgets==7.7.1)\n",
      "  Downloading jupyter_server-2.5.0-py3-none-any.whl (366 kB)\n",
      "\u001b[2K     \u001b[90m━━━━━━━━━━━━━━━━━━━━━━━━━━━━━━━━━━━━━━━\u001b[0m \u001b[32m366.8/366.8 kB\u001b[0m \u001b[31m6.2 MB/s\u001b[0m eta \u001b[36m0:00:00\u001b[0m00:01\u001b[0m\n",
      "\u001b[?25hCollecting notebook-shim>=0.2.3 (from nbclassic>=0.4.7->notebook>=4.4.1->widgetsnbextension~=3.6.0->ipywidgets==7.7.1)\n",
      "  Downloading notebook_shim-0.2.3-py3-none-any.whl (13 kB)\n",
      "Collecting beautifulsoup4 (from nbconvert>=5->notebook>=4.4.1->widgetsnbextension~=3.6.0->ipywidgets==7.7.1)\n",
      "  Using cached beautifulsoup4-4.12.2-py3-none-any.whl (142 kB)\n",
      "Collecting bleach (from nbconvert>=5->notebook>=4.4.1->widgetsnbextension~=3.6.0->ipywidgets==7.7.1)\n",
      "  Using cached bleach-6.0.0-py3-none-any.whl (162 kB)\n",
      "Collecting defusedxml (from nbconvert>=5->notebook>=4.4.1->widgetsnbextension~=3.6.0->ipywidgets==7.7.1)\n",
      "  Downloading defusedxml-0.7.1-py2.py3-none-any.whl (25 kB)\n",
      "Collecting jupyterlab-pygments (from nbconvert>=5->notebook>=4.4.1->widgetsnbextension~=3.6.0->ipywidgets==7.7.1)\n",
      "  Downloading jupyterlab_pygments-0.2.2-py2.py3-none-any.whl (21 kB)\n",
      "Requirement already satisfied: markupsafe>=2.0 in /Users/christina/anaconda3/envs/myenv/lib/python3.9/site-packages (from nbconvert>=5->notebook>=4.4.1->widgetsnbextension~=3.6.0->ipywidgets==7.7.1) (2.1.2)\n",
      "Collecting mistune<3,>=2.0.3 (from nbconvert>=5->notebook>=4.4.1->widgetsnbextension~=3.6.0->ipywidgets==7.7.1)\n",
      "  Downloading mistune-2.0.5-py2.py3-none-any.whl (24 kB)\n",
      "Collecting nbclient>=0.5.0 (from nbconvert>=5->notebook>=4.4.1->widgetsnbextension~=3.6.0->ipywidgets==7.7.1)\n",
      "  Downloading nbclient-0.8.0-py3-none-any.whl (73 kB)\n",
      "\u001b[2K     \u001b[90m━━━━━━━━━━━━━━━━━━━━━━━━━━━━━━━━━━━━━━━━\u001b[0m \u001b[32m73.1/73.1 kB\u001b[0m \u001b[31m2.4 MB/s\u001b[0m eta \u001b[36m0:00:00\u001b[0m\n",
      "\u001b[?25hCollecting pandocfilters>=1.4.1 (from nbconvert>=5->notebook>=4.4.1->widgetsnbextension~=3.6.0->ipywidgets==7.7.1)\n",
      "  Downloading pandocfilters-1.5.0-py2.py3-none-any.whl (8.7 kB)\n",
      "Collecting tinycss2 (from nbconvert>=5->notebook>=4.4.1->widgetsnbextension~=3.6.0->ipywidgets==7.7.1)\n",
      "  Downloading tinycss2-1.2.1-py3-none-any.whl (21 kB)\n",
      "Collecting fastjsonschema (from nbformat->notebook>=4.4.1->widgetsnbextension~=3.6.0->ipywidgets==7.7.1)\n",
      "  Downloading fastjsonschema-2.17.1-py3-none-any.whl (23 kB)\n",
      "Collecting jsonschema>=2.6 (from nbformat->notebook>=4.4.1->widgetsnbextension~=3.6.0->ipywidgets==7.7.1)\n",
      "  Using cached jsonschema-4.17.3-py3-none-any.whl (90 kB)\n",
      "Collecting argon2-cffi-bindings (from argon2-cffi->notebook>=4.4.1->widgetsnbextension~=3.6.0->ipywidgets==7.7.1)\n",
      "  Downloading argon2_cffi_bindings-21.2.0-cp38-abi3-macosx_10_9_universal2.whl (53 kB)\n",
      "\u001b[2K     \u001b[90m━━━━━━━━━━━━━━━━━━━━━━━━━━━━━━━━━━━━━━━━\u001b[0m \u001b[32m53.1/53.1 kB\u001b[0m \u001b[31m1.7 MB/s\u001b[0m eta \u001b[36m0:00:00\u001b[0m\n",
      "\u001b[?25hRequirement already satisfied: attrs>=17.4.0 in /Users/christina/anaconda3/envs/myenv/lib/python3.9/site-packages (from jsonschema>=2.6->nbformat->notebook>=4.4.1->widgetsnbextension~=3.6.0->ipywidgets==7.7.1) (23.1.0)\n",
      "Collecting pyrsistent!=0.17.0,!=0.17.1,!=0.17.2,>=0.14.0 (from jsonschema>=2.6->nbformat->notebook>=4.4.1->widgetsnbextension~=3.6.0->ipywidgets==7.7.1)\n",
      "  Using cached pyrsistent-0.19.3-cp39-cp39-macosx_10_9_universal2.whl (82 kB)\n",
      "Collecting anyio>=3.1.0 (from jupyter-server>=1.8->nbclassic>=0.4.7->notebook>=4.4.1->widgetsnbextension~=3.6.0->ipywidgets==7.7.1)\n",
      "  Downloading anyio-3.6.2-py3-none-any.whl (80 kB)\n",
      "\u001b[2K     \u001b[90m━━━━━━━━━━━━━━━━━━━━━━━━━━━━━━━━━━━━━━━━\u001b[0m \u001b[32m80.6/80.6 kB\u001b[0m \u001b[31m2.6 MB/s\u001b[0m eta \u001b[36m0:00:00\u001b[0m\n",
      "\u001b[?25hCollecting jupyter-events>=0.4.0 (from jupyter-server>=1.8->nbclassic>=0.4.7->notebook>=4.4.1->widgetsnbextension~=3.6.0->ipywidgets==7.7.1)\n",
      "  Downloading jupyter_events-0.6.3-py3-none-any.whl (18 kB)\n",
      "Collecting jupyter-server-terminals (from jupyter-server>=1.8->nbclassic>=0.4.7->notebook>=4.4.1->widgetsnbextension~=3.6.0->ipywidgets==7.7.1)\n",
      "  Downloading jupyter_server_terminals-0.4.4-py3-none-any.whl (13 kB)\n",
      "Collecting websocket-client (from jupyter-server>=1.8->nbclassic>=0.4.7->notebook>=4.4.1->widgetsnbextension~=3.6.0->ipywidgets==7.7.1)\n",
      "  Downloading websocket_client-1.5.2-py3-none-any.whl (56 kB)\n",
      "\u001b[2K     \u001b[90m━━━━━━━━━━━━━━━━━━━━━━━━━━━━━━━━━━━━━━━━\u001b[0m \u001b[32m56.6/56.6 kB\u001b[0m \u001b[31m1.9 MB/s\u001b[0m eta \u001b[36m0:00:00\u001b[0m\n",
      "\u001b[?25hCollecting cffi>=1.0.1 (from argon2-cffi-bindings->argon2-cffi->notebook>=4.4.1->widgetsnbextension~=3.6.0->ipywidgets==7.7.1)\n",
      "  Downloading cffi-1.15.1-cp39-cp39-macosx_10_9_x86_64.whl (179 kB)\n",
      "\u001b[2K     \u001b[90m━━━━━━━━━━━━━━━━━━━━━━━━━━━━━━━━━━━━━━━\u001b[0m \u001b[32m179.2/179.2 kB\u001b[0m \u001b[31m3.8 MB/s\u001b[0m eta \u001b[36m0:00:00\u001b[0ma \u001b[36m0:00:01\u001b[0m\n",
      "\u001b[?25hCollecting soupsieve>1.2 (from beautifulsoup4->nbconvert>=5->notebook>=4.4.1->widgetsnbextension~=3.6.0->ipywidgets==7.7.1)\n",
      "  Using cached soupsieve-2.4.1-py3-none-any.whl (36 kB)\n",
      "Collecting webencodings (from bleach->nbconvert>=5->notebook>=4.4.1->widgetsnbextension~=3.6.0->ipywidgets==7.7.1)\n",
      "  Downloading webencodings-0.5.1-py2.py3-none-any.whl (11 kB)\n",
      "Requirement already satisfied: idna>=2.8 in /Users/christina/anaconda3/envs/myenv/lib/python3.9/site-packages (from anyio>=3.1.0->jupyter-server>=1.8->nbclassic>=0.4.7->notebook>=4.4.1->widgetsnbextension~=3.6.0->ipywidgets==7.7.1) (3.4)\n",
      "Collecting sniffio>=1.1 (from anyio>=3.1.0->jupyter-server>=1.8->nbclassic>=0.4.7->notebook>=4.4.1->widgetsnbextension~=3.6.0->ipywidgets==7.7.1)\n",
      "  Downloading sniffio-1.3.0-py3-none-any.whl (10 kB)\n",
      "Collecting pycparser (from cffi>=1.0.1->argon2-cffi-bindings->argon2-cffi->notebook>=4.4.1->widgetsnbextension~=3.6.0->ipywidgets==7.7.1)\n",
      "  Downloading pycparser-2.21-py2.py3-none-any.whl (118 kB)\n",
      "\u001b[2K     \u001b[90m━━━━━━━━━━━━━━━━━━━━━━━━━━━━━━━━━━━━━━━\u001b[0m \u001b[32m118.7/118.7 kB\u001b[0m \u001b[31m3.4 MB/s\u001b[0m eta \u001b[36m0:00:00\u001b[0m\n",
      "\u001b[?25hCollecting python-json-logger>=2.0.4 (from jupyter-events>=0.4.0->jupyter-server>=1.8->nbclassic>=0.4.7->notebook>=4.4.1->widgetsnbextension~=3.6.0->ipywidgets==7.7.1)\n",
      "  Downloading python_json_logger-2.0.7-py3-none-any.whl (8.1 kB)\n",
      "Requirement already satisfied: pyyaml>=5.3 in /Users/christina/anaconda3/envs/myenv/lib/python3.9/site-packages (from jupyter-events>=0.4.0->jupyter-server>=1.8->nbclassic>=0.4.7->notebook>=4.4.1->widgetsnbextension~=3.6.0->ipywidgets==7.7.1) (6.0)\n",
      "Collecting rfc3339-validator (from jupyter-events>=0.4.0->jupyter-server>=1.8->nbclassic>=0.4.7->notebook>=4.4.1->widgetsnbextension~=3.6.0->ipywidgets==7.7.1)\n",
      "  Downloading rfc3339_validator-0.1.4-py2.py3-none-any.whl (3.5 kB)\n",
      "Collecting rfc3986-validator>=0.1.1 (from jupyter-events>=0.4.0->jupyter-server>=1.8->nbclassic>=0.4.7->notebook>=4.4.1->widgetsnbextension~=3.6.0->ipywidgets==7.7.1)\n",
      "  Downloading rfc3986_validator-0.1.1-py2.py3-none-any.whl (4.2 kB)\n",
      "Collecting fqdn (from jsonschema>=2.6->nbformat->notebook>=4.4.1->widgetsnbextension~=3.6.0->ipywidgets==7.7.1)\n",
      "  Downloading fqdn-1.5.1-py3-none-any.whl (9.1 kB)\n",
      "Collecting isoduration (from jsonschema>=2.6->nbformat->notebook>=4.4.1->widgetsnbextension~=3.6.0->ipywidgets==7.7.1)\n",
      "  Downloading isoduration-20.11.0-py3-none-any.whl (11 kB)\n",
      "Collecting jsonpointer>1.13 (from jsonschema>=2.6->nbformat->notebook>=4.4.1->widgetsnbextension~=3.6.0->ipywidgets==7.7.1)\n",
      "  Downloading jsonpointer-2.3-py2.py3-none-any.whl (7.8 kB)\n",
      "Collecting uri-template (from jsonschema>=2.6->nbformat->notebook>=4.4.1->widgetsnbextension~=3.6.0->ipywidgets==7.7.1)\n",
      "  Downloading uri_template-1.2.0-py3-none-any.whl (10 kB)\n",
      "Collecting webcolors>=1.11 (from jsonschema>=2.6->nbformat->notebook>=4.4.1->widgetsnbextension~=3.6.0->ipywidgets==7.7.1)\n",
      "  Downloading webcolors-1.13-py3-none-any.whl (14 kB)\n",
      "Collecting arrow>=0.15.0 (from isoduration->jsonschema>=2.6->nbformat->notebook>=4.4.1->widgetsnbextension~=3.6.0->ipywidgets==7.7.1)\n",
      "  Downloading arrow-1.2.3-py3-none-any.whl (66 kB)\n",
      "\u001b[2K     \u001b[90m━━━━━━━━━━━━━━━━━━━━━━━━━━━━━━━━━━━━━━━━\u001b[0m \u001b[32m66.4/66.4 kB\u001b[0m \u001b[31m2.3 MB/s\u001b[0m eta \u001b[36m0:00:00\u001b[0m\n",
      "\u001b[?25hInstalling collected packages: webencodings, mistune, ipython-genutils, fastjsonschema, websocket-client, webcolors, uri-template, tinycss2, terminado, soupsieve, sniffio, Send2Trash, rfc3986-validator, rfc3339-validator, python-json-logger, pyrsistent, pycparser, prometheus-client, pandocfilters, jupyterlab-pygments, jsonpointer, fqdn, defusedxml, bleach, jupyter-server-terminals, jsonschema, cffi, beautifulsoup4, arrow, anyio, nbformat, isoduration, argon2-cffi-bindings, nbclient, argon2-cffi, nbconvert, jupyter-events, jupyter-server, notebook-shim, nbclassic, notebook, widgetsnbextension, ipywidgets\n",
      "  Attempting uninstall: widgetsnbextension\n",
      "    Found existing installation: widgetsnbextension 4.0.7\n",
      "    Uninstalling widgetsnbextension-4.0.7:\n",
      "      Successfully uninstalled widgetsnbextension-4.0.7\n",
      "  Attempting uninstall: ipywidgets\n",
      "    Found existing installation: ipywidgets 8.0.6\n",
      "    Uninstalling ipywidgets-8.0.6:\n",
      "      Successfully uninstalled ipywidgets-8.0.6\n",
      "Successfully installed Send2Trash-1.8.2 anyio-3.6.2 argon2-cffi-21.3.0 argon2-cffi-bindings-21.2.0 arrow-1.2.3 beautifulsoup4-4.12.2 bleach-6.0.0 cffi-1.15.1 defusedxml-0.7.1 fastjsonschema-2.17.1 fqdn-1.5.1 ipython-genutils-0.2.0 ipywidgets-7.7.1 isoduration-20.11.0 jsonpointer-2.3 jsonschema-4.17.3 jupyter-events-0.6.3 jupyter-server-2.5.0 jupyter-server-terminals-0.4.4 jupyterlab-pygments-0.2.2 mistune-2.0.5 nbclassic-1.0.0 nbclient-0.8.0 nbconvert-7.4.0 nbformat-5.8.0 notebook-6.5.4 notebook-shim-0.2.3 pandocfilters-1.5.0 prometheus-client-0.16.0 pycparser-2.21 pyrsistent-0.19.3 python-json-logger-2.0.7 rfc3339-validator-0.1.4 rfc3986-validator-0.1.1 sniffio-1.3.0 soupsieve-2.4.1 terminado-0.17.1 tinycss2-1.2.1 uri-template-1.2.0 webcolors-1.13 webencodings-0.5.1 websocket-client-1.5.2 widgetsnbextension-3.6.4\n"
     ]
    }
   ],
   "source": [
    "! pip install ipywidgets==7.7.1"
   ]
  },
  {
   "cell_type": "code",
   "execution_count": 2,
   "metadata": {},
   "outputs": [
    {
     "name": "stderr",
     "output_type": "stream",
     "text": [
      "Found cached dataset diffusiondb (/Users/christina/.cache/huggingface/datasets/poloclub___diffusiondb/2m_first_1k/0.9.1/b3bc1e64570dc7149af62c4bac49ecfbce16b683dd4fee083292fae1afa95f7c)\n"
     ]
    },
    {
     "data": {
      "application/vnd.jupyter.widget-view+json": {
       "model_id": "935f8afb0d284668ab46eb16c23fc56e",
       "version_major": 2,
       "version_minor": 0
      },
      "text/plain": [
       "  0%|          | 0/1 [00:00<?, ?it/s]"
      ]
     },
     "metadata": {},
     "output_type": "display_data"
    }
   ],
   "source": [
    "# from src.data import get_dataset\n",
    "# dataset = get_dataset('MSCOCO', '/Users/christina/Data/mscoco/')\n",
    "# import src.data as data\n",
    "from clipexplorer import data\n",
    "# dataset = data.MSCOCO_Dataset(path='/Users/christina/Data/mscoco/')\n",
    "dataset = data.DiffusionDB_Dataset(path=\"2m_first_1k\")"
   ]
  },
  {
   "cell_type": "code",
   "execution_count": 3,
   "metadata": {},
   "outputs": [
    {
     "name": "stderr",
     "output_type": "stream",
     "text": [
      "/Users/christina/Workspace/CLIP-explorer/clipexplorer/data.py:142: FutureWarning: The input object of type 'Image' is an array-like implementing one of the corresponding protocols (`__array__`, `__array_interface__` or `__array_struct__`); but not a sequence (or 0-D). In the future, this object will be coerced as if it was first converted using `np.array(obj)`. To retain the old behaviour, you have to either modify the type 'Image', or assign to an empty array created with `np.empty(correct_shape, dtype=object)`.\n",
      "  self.all_images = np.array(images)\n",
      "/Users/christina/Workspace/CLIP-explorer/clipexplorer/data.py:142: VisibleDeprecationWarning: Creating an ndarray from ragged nested sequences (which is a list-or-tuple of lists-or-tuples-or ndarrays with different lengths or shapes) is deprecated. If you meant to do this, you must specify 'dtype=object' when creating the ndarray.\n",
      "  self.all_images = np.array(images)\n"
     ]
    }
   ],
   "source": [
    "all_images, all_prompts = dataset.get_data()\n",
    "# dataset = data.RandomAugmentation_Dataset(all_images[0], all_prompts[0])\n",
    "dataset = data.Rotate_Dataset(all_images[0], all_prompts[0])\n",
    "# dataset = data.Noise_Dataset(all_images[0], all_prompts[0])\n"
   ]
  },
  {
   "cell_type": "code",
   "execution_count": 4,
   "metadata": {},
   "outputs": [
    {
     "name": "stdout",
     "output_type": "stream",
     "text": [
      "100\n"
     ]
    }
   ],
   "source": [
    "# filters = [\"dog\"]\n",
    "filters = []\n",
    "method=any\n",
    "all_images, all_prompts = dataset.get_filtered_data(filters, method=method)\n",
    "print(len(all_images))\n",
    "# all_images[20]"
   ]
  },
  {
   "cell_type": "code",
   "execution_count": 5,
   "metadata": {},
   "outputs": [
    {
     "data": {
      "text/plain": [
       "'Rotated'"
      ]
     },
     "execution_count": 5,
     "metadata": {},
     "output_type": "execute_result"
    }
   ],
   "source": [
    "\n",
    "dataset_name = dataset.name\n",
    "if len(filters) > 0:\n",
    "    dataset_name = dataset_name + '_filter-' + method.__name__ + '_' + '-'.join(filters)\n",
    "dataset_name"
   ]
  },
  {
   "cell_type": "code",
   "execution_count": 6,
   "metadata": {},
   "outputs": [
    {
     "name": "stderr",
     "output_type": "stream",
     "text": [
      "/Users/christina/anaconda3/envs/myenv/lib/python3.9/site-packages/umap/distances.py:1063: NumbaDeprecationWarning: The 'nopython' keyword argument was not supplied to the 'numba.jit' decorator. The implicit default value for this argument is currently False, but it will be changed to True in Numba 0.59.0. See https://numba.readthedocs.io/en/stable/reference/deprecation.html#deprecation-of-object-mode-fall-back-behaviour-when-using-jit for details.\n",
      "  @numba.jit()\n",
      "/Users/christina/anaconda3/envs/myenv/lib/python3.9/site-packages/umap/distances.py:1071: NumbaDeprecationWarning: The 'nopython' keyword argument was not supplied to the 'numba.jit' decorator. The implicit default value for this argument is currently False, but it will be changed to True in Numba 0.59.0. See https://numba.readthedocs.io/en/stable/reference/deprecation.html#deprecation-of-object-mode-fall-back-behaviour-when-using-jit for details.\n",
      "  @numba.jit()\n",
      "/Users/christina/anaconda3/envs/myenv/lib/python3.9/site-packages/umap/distances.py:1086: NumbaDeprecationWarning: The 'nopython' keyword argument was not supplied to the 'numba.jit' decorator. The implicit default value for this argument is currently False, but it will be changed to True in Numba 0.59.0. See https://numba.readthedocs.io/en/stable/reference/deprecation.html#deprecation-of-object-mode-fall-back-behaviour-when-using-jit for details.\n",
      "  @numba.jit()\n",
      "/Users/christina/anaconda3/envs/myenv/lib/python3.9/site-packages/umap/umap_.py:660: NumbaDeprecationWarning: The 'nopython' keyword argument was not supplied to the 'numba.jit' decorator. The implicit default value for this argument is currently False, but it will be changed to True in Numba 0.59.0. See https://numba.readthedocs.io/en/stable/reference/deprecation.html#deprecation-of-object-mode-fall-back-behaviour-when-using-jit for details.\n",
      "  @numba.jit()\n"
     ]
    },
    {
     "name": "stdout",
     "output_type": "stream",
     "text": [
      "local\n"
     ]
    },
    {
     "ename": "ValueError",
     "evalue": "Can't clean for JSON: array([ 0,  1,  2,  3,  4,  5,  6,  7,  8,  9, 10, 11, 12, 13, 14, 15, 16,\n       17, 18, 19, 20, 21, 22, 23, 24, 25, 26, 27, 28, 29, 30, 31, 32, 33,\n       34, 35, 36, 37, 38, 39, 40, 41, 42, 43, 44, 45, 46, 47, 48, 49, 50,\n       51, 52, 53, 54, 55, 56, 57, 58, 59, 60, 61, 62, 63, 64, 65, 66, 67,\n       68, 69, 70, 71, 72, 73, 74, 75, 76, 77, 78, 79, 80, 81, 82, 83, 84,\n       85, 86, 87, 88, 89, 90, 91, 92, 93, 94, 95, 96, 97, 98, 99])",
     "output_type": "error",
     "traceback": [
      "\u001b[0;31m---------------------------------------------------------------------------\u001b[0m",
      "\u001b[0;31mValueError\u001b[0m                                Traceback (most recent call last)",
      "Cell \u001b[0;32mIn[6], line 4\u001b[0m\n\u001b[1;32m      1\u001b[0m \u001b[39mfrom\u001b[39;00m \u001b[39mclipexplorer\u001b[39;00m\u001b[39m.\u001b[39;00m\u001b[39mwidgets\u001b[39;00m \u001b[39mimport\u001b[39;00m CLIPExplorerWidget\n\u001b[0;32m----> 4\u001b[0m clipexplorer_widget \u001b[39m=\u001b[39m CLIPExplorerWidget(dataset_name, all_images, all_prompts)\n\u001b[1;32m      5\u001b[0m clipexplorer_widget\n",
      "File \u001b[0;32m~/Workspace/CLIP-explorer/clipexplorer/widgets.py:342\u001b[0m, in \u001b[0;36mCLIPExplorerWidget.__init__\u001b[0;34m(self, dataset_name, all_images, all_prompts)\u001b[0m\n\u001b[1;32m    340\u001b[0m \u001b[39mself\u001b[39m\u001b[39m.\u001b[39mall_prompts \u001b[39m=\u001b[39m np\u001b[39m.\u001b[39marray(all_prompts)\n\u001b[1;32m    341\u001b[0m \u001b[39mself\u001b[39m\u001b[39m.\u001b[39msize \u001b[39m=\u001b[39m \u001b[39mlen\u001b[39m(all_images)\n\u001b[0;32m--> 342\u001b[0m \u001b[39mself\u001b[39;49m\u001b[39m.\u001b[39;49midcs \u001b[39m=\u001b[39m np\u001b[39m.\u001b[39marange(\u001b[39mself\u001b[39m\u001b[39m.\u001b[39msize)\n\u001b[1;32m    344\u001b[0m \u001b[39m# ui select widgets\u001b[39;00m\n\u001b[1;32m    345\u001b[0m \u001b[39mself\u001b[39m\u001b[39m.\u001b[39mmodel_select_widget \u001b[39m=\u001b[39m widgets\u001b[39m.\u001b[39mDropdown(\n\u001b[1;32m    346\u001b[0m     description\u001b[39m=\u001b[39m\u001b[39m'\u001b[39m\u001b[39mModel: \u001b[39m\u001b[39m'\u001b[39m,\n\u001b[1;32m    347\u001b[0m     value\u001b[39m=\u001b[39m\u001b[39m'\u001b[39m\u001b[39mCLIP\u001b[39m\u001b[39m'\u001b[39m,\n\u001b[1;32m    348\u001b[0m     options\u001b[39m=\u001b[39m\u001b[39mlist\u001b[39m(model\u001b[39m.\u001b[39mavailable_CLIP_models),\n\u001b[1;32m    349\u001b[0m )\n",
      "File \u001b[0;32m~/anaconda3/envs/myenv/lib/python3.9/site-packages/traitlets/traitlets.py:729\u001b[0m, in \u001b[0;36mTraitType.__set__\u001b[0;34m(self, obj, value)\u001b[0m\n\u001b[1;32m    727\u001b[0m     \u001b[39mraise\u001b[39;00m TraitError(\u001b[39m'\u001b[39m\u001b[39mThe \u001b[39m\u001b[39m\"\u001b[39m\u001b[39m%s\u001b[39;00m\u001b[39m\"\u001b[39m\u001b[39m trait is read-only.\u001b[39m\u001b[39m'\u001b[39m \u001b[39m%\u001b[39m \u001b[39mself\u001b[39m\u001b[39m.\u001b[39mname)\n\u001b[1;32m    728\u001b[0m \u001b[39melse\u001b[39;00m:\n\u001b[0;32m--> 729\u001b[0m     \u001b[39mself\u001b[39;49m\u001b[39m.\u001b[39;49mset(obj, value)\n",
      "File \u001b[0;32m~/anaconda3/envs/myenv/lib/python3.9/site-packages/traitlets/traitlets.py:718\u001b[0m, in \u001b[0;36mTraitType.set\u001b[0;34m(self, obj, value)\u001b[0m\n\u001b[1;32m    714\u001b[0m     silent \u001b[39m=\u001b[39m \u001b[39mFalse\u001b[39;00m\n\u001b[1;32m    715\u001b[0m \u001b[39mif\u001b[39;00m silent \u001b[39mis\u001b[39;00m \u001b[39mnot\u001b[39;00m \u001b[39mTrue\u001b[39;00m:\n\u001b[1;32m    716\u001b[0m     \u001b[39m# we explicitly compare silent to True just in case the equality\u001b[39;00m\n\u001b[1;32m    717\u001b[0m     \u001b[39m# comparison above returns something other than True/False\u001b[39;00m\n\u001b[0;32m--> 718\u001b[0m     obj\u001b[39m.\u001b[39;49m_notify_trait(\u001b[39mself\u001b[39;49m\u001b[39m.\u001b[39;49mname, old_value, new_value)\n",
      "File \u001b[0;32m~/anaconda3/envs/myenv/lib/python3.9/site-packages/traitlets/traitlets.py:1501\u001b[0m, in \u001b[0;36mHasTraits._notify_trait\u001b[0;34m(self, name, old_value, new_value)\u001b[0m\n\u001b[1;32m   1500\u001b[0m \u001b[39mdef\u001b[39;00m \u001b[39m_notify_trait\u001b[39m(\u001b[39mself\u001b[39m, name, old_value, new_value):\n\u001b[0;32m-> 1501\u001b[0m     \u001b[39mself\u001b[39;49m\u001b[39m.\u001b[39;49mnotify_change(\n\u001b[1;32m   1502\u001b[0m         Bunch(\n\u001b[1;32m   1503\u001b[0m             name\u001b[39m=\u001b[39;49mname,\n\u001b[1;32m   1504\u001b[0m             old\u001b[39m=\u001b[39;49mold_value,\n\u001b[1;32m   1505\u001b[0m             new\u001b[39m=\u001b[39;49mnew_value,\n\u001b[1;32m   1506\u001b[0m             owner\u001b[39m=\u001b[39;49m\u001b[39mself\u001b[39;49m,\n\u001b[1;32m   1507\u001b[0m             \u001b[39mtype\u001b[39;49m\u001b[39m=\u001b[39;49m\u001b[39m\"\u001b[39;49m\u001b[39mchange\u001b[39;49m\u001b[39m\"\u001b[39;49m,\n\u001b[1;32m   1508\u001b[0m         )\n\u001b[1;32m   1509\u001b[0m     )\n",
      "File \u001b[0;32m~/anaconda3/envs/myenv/lib/python3.9/site-packages/ipywidgets/widgets/widget.py:685\u001b[0m, in \u001b[0;36mWidget.notify_change\u001b[0;34m(self, change)\u001b[0m\n\u001b[1;32m    681\u001b[0m \u001b[39mif\u001b[39;00m \u001b[39mself\u001b[39m\u001b[39m.\u001b[39mcomm \u001b[39mis\u001b[39;00m \u001b[39mnot\u001b[39;00m \u001b[39mNone\u001b[39;00m \u001b[39mand\u001b[39;00m \u001b[39mself\u001b[39m\u001b[39m.\u001b[39mcomm\u001b[39m.\u001b[39mkernel \u001b[39mis\u001b[39;00m \u001b[39mnot\u001b[39;00m \u001b[39mNone\u001b[39;00m:\n\u001b[1;32m    682\u001b[0m     \u001b[39m# Make sure this isn't information that the front-end just sent us.\u001b[39;00m\n\u001b[1;32m    683\u001b[0m     \u001b[39mif\u001b[39;00m name \u001b[39min\u001b[39;00m \u001b[39mself\u001b[39m\u001b[39m.\u001b[39mkeys \u001b[39mand\u001b[39;00m \u001b[39mself\u001b[39m\u001b[39m.\u001b[39m_should_send_property(name, \u001b[39mgetattr\u001b[39m(\u001b[39mself\u001b[39m, name)):\n\u001b[1;32m    684\u001b[0m         \u001b[39m# Send new state to front-end\u001b[39;00m\n\u001b[0;32m--> 685\u001b[0m         \u001b[39mself\u001b[39;49m\u001b[39m.\u001b[39;49msend_state(key\u001b[39m=\u001b[39;49mname)\n\u001b[1;32m    686\u001b[0m \u001b[39msuper\u001b[39m(Widget, \u001b[39mself\u001b[39m)\u001b[39m.\u001b[39mnotify_change(change)\n",
      "File \u001b[0;32m~/anaconda3/envs/myenv/lib/python3.9/site-packages/ipywidgets/widgets/widget.py:554\u001b[0m, in \u001b[0;36mWidget.send_state\u001b[0;34m(self, key)\u001b[0m\n\u001b[1;32m    552\u001b[0m state, buffer_paths, buffers \u001b[39m=\u001b[39m _remove_buffers(state)\n\u001b[1;32m    553\u001b[0m msg \u001b[39m=\u001b[39m {\u001b[39m'\u001b[39m\u001b[39mmethod\u001b[39m\u001b[39m'\u001b[39m: \u001b[39m'\u001b[39m\u001b[39mupdate\u001b[39m\u001b[39m'\u001b[39m, \u001b[39m'\u001b[39m\u001b[39mstate\u001b[39m\u001b[39m'\u001b[39m: state, \u001b[39m'\u001b[39m\u001b[39mbuffer_paths\u001b[39m\u001b[39m'\u001b[39m: buffer_paths}\n\u001b[0;32m--> 554\u001b[0m \u001b[39mself\u001b[39;49m\u001b[39m.\u001b[39;49m_send(msg, buffers\u001b[39m=\u001b[39;49mbuffers)\n",
      "File \u001b[0;32m~/anaconda3/envs/myenv/lib/python3.9/site-packages/ipywidgets/widgets/widget.py:817\u001b[0m, in \u001b[0;36mWidget._send\u001b[0;34m(self, msg, buffers)\u001b[0m\n\u001b[1;32m    815\u001b[0m \u001b[39m\u001b[39m\u001b[39m\"\"\"Sends a message to the model in the front-end.\"\"\"\u001b[39;00m\n\u001b[1;32m    816\u001b[0m \u001b[39mif\u001b[39;00m \u001b[39mself\u001b[39m\u001b[39m.\u001b[39mcomm \u001b[39mis\u001b[39;00m \u001b[39mnot\u001b[39;00m \u001b[39mNone\u001b[39;00m \u001b[39mand\u001b[39;00m \u001b[39mself\u001b[39m\u001b[39m.\u001b[39mcomm\u001b[39m.\u001b[39mkernel \u001b[39mis\u001b[39;00m \u001b[39mnot\u001b[39;00m \u001b[39mNone\u001b[39;00m:\n\u001b[0;32m--> 817\u001b[0m     \u001b[39mself\u001b[39;49m\u001b[39m.\u001b[39;49mcomm\u001b[39m.\u001b[39;49msend(data\u001b[39m=\u001b[39;49mmsg, buffers\u001b[39m=\u001b[39;49mbuffers)\n",
      "File \u001b[0;32m~/anaconda3/envs/myenv/lib/python3.9/site-packages/ipykernel/comm/comm.py:122\u001b[0m, in \u001b[0;36mComm.send\u001b[0;34m(self, data, metadata, buffers)\u001b[0m\n\u001b[1;32m    120\u001b[0m \u001b[39mdef\u001b[39;00m \u001b[39msend\u001b[39m(\u001b[39mself\u001b[39m, data\u001b[39m=\u001b[39m\u001b[39mNone\u001b[39;00m, metadata\u001b[39m=\u001b[39m\u001b[39mNone\u001b[39;00m, buffers\u001b[39m=\u001b[39m\u001b[39mNone\u001b[39;00m):\n\u001b[1;32m    121\u001b[0m \u001b[39m    \u001b[39m\u001b[39m\"\"\"Send a message to the frontend-side version of this comm\"\"\"\u001b[39;00m\n\u001b[0;32m--> 122\u001b[0m     \u001b[39mself\u001b[39;49m\u001b[39m.\u001b[39;49m_publish_msg(\u001b[39m'\u001b[39;49m\u001b[39mcomm_msg\u001b[39;49m\u001b[39m'\u001b[39;49m,\n\u001b[1;32m    123\u001b[0m         data\u001b[39m=\u001b[39;49mdata, metadata\u001b[39m=\u001b[39;49mmetadata, buffers\u001b[39m=\u001b[39;49mbuffers,\n\u001b[1;32m    124\u001b[0m     )\n",
      "File \u001b[0;32m~/anaconda3/envs/myenv/lib/python3.9/site-packages/ipykernel/comm/comm.py:65\u001b[0m, in \u001b[0;36mComm._publish_msg\u001b[0;34m(self, msg_type, data, metadata, buffers, **keys)\u001b[0m\n\u001b[1;32m     63\u001b[0m data \u001b[39m=\u001b[39m {} \u001b[39mif\u001b[39;00m data \u001b[39mis\u001b[39;00m \u001b[39mNone\u001b[39;00m \u001b[39melse\u001b[39;00m data\n\u001b[1;32m     64\u001b[0m metadata \u001b[39m=\u001b[39m {} \u001b[39mif\u001b[39;00m metadata \u001b[39mis\u001b[39;00m \u001b[39mNone\u001b[39;00m \u001b[39melse\u001b[39;00m metadata\n\u001b[0;32m---> 65\u001b[0m content \u001b[39m=\u001b[39m json_clean(\u001b[39mdict\u001b[39;49m(data\u001b[39m=\u001b[39;49mdata, comm_id\u001b[39m=\u001b[39;49m\u001b[39mself\u001b[39;49m\u001b[39m.\u001b[39;49mcomm_id, \u001b[39m*\u001b[39;49m\u001b[39m*\u001b[39;49mkeys))\n\u001b[1;32m     66\u001b[0m \u001b[39mself\u001b[39m\u001b[39m.\u001b[39mkernel\u001b[39m.\u001b[39msession\u001b[39m.\u001b[39msend(\u001b[39mself\u001b[39m\u001b[39m.\u001b[39mkernel\u001b[39m.\u001b[39miopub_socket, msg_type,\n\u001b[1;32m     67\u001b[0m     content,\n\u001b[1;32m     68\u001b[0m     metadata\u001b[39m=\u001b[39mjson_clean(metadata),\n\u001b[0;32m   (...)\u001b[0m\n\u001b[1;32m     71\u001b[0m     buffers\u001b[39m=\u001b[39mbuffers,\n\u001b[1;32m     72\u001b[0m )\n",
      "File \u001b[0;32m~/anaconda3/envs/myenv/lib/python3.9/site-packages/ipykernel/jsonutil.py:145\u001b[0m, in \u001b[0;36mjson_clean\u001b[0;34m(obj)\u001b[0m\n\u001b[1;32m    143\u001b[0m     out \u001b[39m=\u001b[39m {}\n\u001b[1;32m    144\u001b[0m     \u001b[39mfor\u001b[39;00m k,v \u001b[39min\u001b[39;00m obj\u001b[39m.\u001b[39mitems():\n\u001b[0;32m--> 145\u001b[0m         out[\u001b[39mstr\u001b[39m(k)] \u001b[39m=\u001b[39m json_clean(v)\n\u001b[1;32m    146\u001b[0m     \u001b[39mreturn\u001b[39;00m out\n\u001b[1;32m    147\u001b[0m \u001b[39mif\u001b[39;00m \u001b[39misinstance\u001b[39m(obj, datetime):\n",
      "File \u001b[0;32m~/anaconda3/envs/myenv/lib/python3.9/site-packages/ipykernel/jsonutil.py:145\u001b[0m, in \u001b[0;36mjson_clean\u001b[0;34m(obj)\u001b[0m\n\u001b[1;32m    143\u001b[0m     out \u001b[39m=\u001b[39m {}\n\u001b[1;32m    144\u001b[0m     \u001b[39mfor\u001b[39;00m k,v \u001b[39min\u001b[39;00m obj\u001b[39m.\u001b[39mitems():\n\u001b[0;32m--> 145\u001b[0m         out[\u001b[39mstr\u001b[39m(k)] \u001b[39m=\u001b[39m json_clean(v)\n\u001b[1;32m    146\u001b[0m     \u001b[39mreturn\u001b[39;00m out\n\u001b[1;32m    147\u001b[0m \u001b[39mif\u001b[39;00m \u001b[39misinstance\u001b[39m(obj, datetime):\n",
      "File \u001b[0;32m~/anaconda3/envs/myenv/lib/python3.9/site-packages/ipykernel/jsonutil.py:145\u001b[0m, in \u001b[0;36mjson_clean\u001b[0;34m(obj)\u001b[0m\n\u001b[1;32m    143\u001b[0m     out \u001b[39m=\u001b[39m {}\n\u001b[1;32m    144\u001b[0m     \u001b[39mfor\u001b[39;00m k,v \u001b[39min\u001b[39;00m obj\u001b[39m.\u001b[39mitems():\n\u001b[0;32m--> 145\u001b[0m         out[\u001b[39mstr\u001b[39m(k)] \u001b[39m=\u001b[39m json_clean(v)\n\u001b[1;32m    146\u001b[0m     \u001b[39mreturn\u001b[39;00m out\n\u001b[1;32m    147\u001b[0m \u001b[39mif\u001b[39;00m \u001b[39misinstance\u001b[39m(obj, datetime):\n",
      "File \u001b[0;32m~/anaconda3/envs/myenv/lib/python3.9/site-packages/ipykernel/jsonutil.py:151\u001b[0m, in \u001b[0;36mjson_clean\u001b[0;34m(obj)\u001b[0m\n\u001b[1;32m    148\u001b[0m     \u001b[39mreturn\u001b[39;00m obj\u001b[39m.\u001b[39mstrftime(ISO8601)\n\u001b[1;32m    150\u001b[0m \u001b[39m# we don't understand it, it's probably an unserializable object\u001b[39;00m\n\u001b[0;32m--> 151\u001b[0m \u001b[39mraise\u001b[39;00m \u001b[39mValueError\u001b[39;00m(\u001b[39m\"\u001b[39m\u001b[39mCan\u001b[39m\u001b[39m'\u001b[39m\u001b[39mt clean for JSON: \u001b[39m\u001b[39m%r\u001b[39;00m\u001b[39m\"\u001b[39m \u001b[39m%\u001b[39m obj)\n",
      "\u001b[0;31mValueError\u001b[0m: Can't clean for JSON: array([ 0,  1,  2,  3,  4,  5,  6,  7,  8,  9, 10, 11, 12, 13, 14, 15, 16,\n       17, 18, 19, 20, 21, 22, 23, 24, 25, 26, 27, 28, 29, 30, 31, 32, 33,\n       34, 35, 36, 37, 38, 39, 40, 41, 42, 43, 44, 45, 46, 47, 48, 49, 50,\n       51, 52, 53, 54, 55, 56, 57, 58, 59, 60, 61, 62, 63, 64, 65, 66, 67,\n       68, 69, 70, 71, 72, 73, 74, 75, 76, 77, 78, 79, 80, 81, 82, 83, 84,\n       85, 86, 87, 88, 89, 90, 91, 92, 93, 94, 95, 96, 97, 98, 99])"
     ]
    }
   ],
   "source": [
    "from clipexplorer.widgets import CLIPExplorerWidget\n",
    "\n",
    "\n",
    "clipexplorer_widget = CLIPExplorerWidget(dataset_name, all_images, all_prompts)\n",
    "clipexplorer_widget"
   ]
  },
  {
   "cell_type": "code",
   "execution_count": 7,
   "metadata": {},
   "outputs": [
    {
     "data": {
      "text/plain": [
       "{'CLIP': clipexplorer.model.CLIPModel,\n",
       " 'OpenCLIP': clipexplorer.model.OpenCLIPModel,\n",
       " 'CyCLIP': clipexplorer.model.CyCLIPModel,\n",
       " 'CLOOB': clipexplorer.model.CLOOB_Model,\n",
       " 'CLOOB_LAION400M': clipexplorer.model.CLOOB_LAION400M_Model}"
      ]
     },
     "execution_count": 7,
     "metadata": {},
     "output_type": "execute_result"
    }
   ],
   "source": [
    "from clipexplorer import model\n",
    "model.available_CLIP_models"
   ]
  },
  {
   "cell_type": "code",
   "execution_count": 8,
   "metadata": {},
   "outputs": [
    {
     "name": "stdout",
     "output_type": "stream",
     "text": [
      "found cached embeddings for Rotated_CLIP_RN50\n"
     ]
    },
    {
     "ename": "RuntimeError",
     "evalue": "PytorchStreamReader failed reading zip archive: failed finding central directory",
     "output_type": "error",
     "traceback": [
      "\u001b[0;31m---------------------------------------------------------------------------\u001b[0m",
      "\u001b[0;31mRuntimeError\u001b[0m                              Traceback (most recent call last)",
      "Cell \u001b[0;32mIn[8], line 2\u001b[0m\n\u001b[1;32m      1\u001b[0m \u001b[39mfrom\u001b[39;00m \u001b[39mclipexplorer\u001b[39;00m\u001b[39m.\u001b[39;00m\u001b[39mwidgets\u001b[39;00m \u001b[39mimport\u001b[39;00m CLIPComparerWidget\n\u001b[0;32m----> 2\u001b[0m clip_comparer \u001b[39m=\u001b[39m CLIPComparerWidget(dataset_name, all_images, all_prompts, models\u001b[39m=\u001b[39;49m[\u001b[39m'\u001b[39;49m\u001b[39mCLIP\u001b[39;49m\u001b[39m'\u001b[39;49m, \u001b[39m'\u001b[39;49m\u001b[39mCyCLIP\u001b[39;49m\u001b[39m'\u001b[39;49m, \u001b[39m'\u001b[39;49m\u001b[39mCLOOB\u001b[39;49m\u001b[39m'\u001b[39;49m, \u001b[39m'\u001b[39;49m\u001b[39mCLOOB_LAION400M\u001b[39;49m\u001b[39m'\u001b[39;49m])\n\u001b[1;32m      3\u001b[0m clip_comparer\n",
      "File \u001b[0;32m~/Workspace/CLIP-explorer/clipexplorer/widgets.py:480\u001b[0m, in \u001b[0;36mCLIPComparerWidget.__init__\u001b[0;34m(self, dataset_name, all_images, all_prompts, models)\u001b[0m\n\u001b[1;32m    478\u001b[0m \u001b[39mfor\u001b[39;00m i \u001b[39min\u001b[39;00m \u001b[39mrange\u001b[39m(\u001b[39mlen\u001b[39m(models)):\n\u001b[1;32m    479\u001b[0m     model \u001b[39m=\u001b[39m models[i]\n\u001b[0;32m--> 480\u001b[0m     image_embedding_norm, text_embedding_norm \u001b[39m=\u001b[39m get_embedding(model, \u001b[39mself\u001b[39;49m\u001b[39m.\u001b[39;49mdataset_name, \u001b[39mself\u001b[39;49m\u001b[39m.\u001b[39;49mall_images, \u001b[39mself\u001b[39;49m\u001b[39m.\u001b[39;49mall_prompts)\n\u001b[1;32m    481\u001b[0m     _, similarity_all \u001b[39m=\u001b[39m get_similarity(image_embedding_norm, text_embedding_norm)\n\u001b[1;32m    482\u001b[0m     heatmap_widget \u001b[39m=\u001b[39m SimilarityHeatmapWidget(zmin\u001b[39m=\u001b[39m\u001b[39m0\u001b[39m, zmax\u001b[39m=\u001b[39m\u001b[39m1\u001b[39m)\n",
      "File \u001b[0;32m~/Workspace/CLIP-explorer/clipexplorer/utils.py:18\u001b[0m, in \u001b[0;36mget_embedding\u001b[0;34m(model_name, dataset_name, all_images, all_prompts)\u001b[0m\n\u001b[1;32m     17\u001b[0m \u001b[39mdef\u001b[39;00m \u001b[39mget_embedding\u001b[39m(model_name, dataset_name, all_images, all_prompts):\n\u001b[0;32m---> 18\u001b[0m     clip_model \u001b[39m=\u001b[39m get_model(model_name, device\u001b[39m=\u001b[39;49mdevice)\n\u001b[1;32m     20\u001b[0m     data_prefix \u001b[39m=\u001b[39m dataset_name \u001b[39m+\u001b[39m \u001b[39m'\u001b[39m\u001b[39m_\u001b[39m\u001b[39m'\u001b[39m \u001b[39m+\u001b[39m clip_model\u001b[39m.\u001b[39mmodel_name \u001b[39m+\u001b[39m \u001b[39m'\u001b[39m\u001b[39m_\u001b[39m\u001b[39m'\u001b[39m \u001b[39m+\u001b[39m clip_model\u001b[39m.\u001b[39mname\n\u001b[1;32m     21\u001b[0m     data_prefix \u001b[39m=\u001b[39m data_prefix\u001b[39m.\u001b[39mreplace(\u001b[39m'\u001b[39m\u001b[39m/\u001b[39m\u001b[39m'\u001b[39m,\u001b[39m'\u001b[39m\u001b[39m-\u001b[39m\u001b[39m'\u001b[39m)\n",
      "File \u001b[0;32m~/Workspace/CLIP-explorer/clipexplorer/model.py:219\u001b[0m, in \u001b[0;36mget_model\u001b[0;34m(clip_name, image_encoder_name, device)\u001b[0m\n\u001b[1;32m    216\u001b[0m     image_encoder_name \u001b[39m=\u001b[39m available_CLIP_models[clip_name]\u001b[39m.\u001b[39mavailable_models[\u001b[39m0\u001b[39m]\n\u001b[1;32m    217\u001b[0m \u001b[39massert\u001b[39;00m image_encoder_name \u001b[39min\u001b[39;00m available_CLIP_models[clip_name]\u001b[39m.\u001b[39mavailable_models, \u001b[39m'\u001b[39m\u001b[39mchoose one of \u001b[39m\u001b[39m'\u001b[39m \u001b[39m+\u001b[39m \u001b[39mstr\u001b[39m(available_CLIP_models[clip_name]\u001b[39m.\u001b[39mavailable_models)\n\u001b[0;32m--> 219\u001b[0m \u001b[39mreturn\u001b[39;00m available_CLIP_models[clip_name](image_encoder_name, device\u001b[39m=\u001b[39;49mdevice)\n",
      "File \u001b[0;32m~/Workspace/CLIP-explorer/clipexplorer/model.py:108\u001b[0m, in \u001b[0;36mCyCLIPModel.__init__\u001b[0;34m(self, name, device)\u001b[0m\n\u001b[1;32m    104\u001b[0m \u001b[39msuper\u001b[39m()\u001b[39m.\u001b[39m\u001b[39m__init__\u001b[39m(name, device)\n\u001b[1;32m    106\u001b[0m checkpoint \u001b[39m=\u001b[39m checkpoint_download_helper(\u001b[39mself\u001b[39m\u001b[39m.\u001b[39mcheckpoints[\u001b[39m'\u001b[39m\u001b[39mcyclip-3M.pt\u001b[39m\u001b[39m'\u001b[39m],\u001b[39m'\u001b[39m\u001b[39mcyclip-3M.pt\u001b[39m\u001b[39m'\u001b[39m) \u001b[39m# 'i-cyclip.pt', 'c-cyclip.pt'\u001b[39;00m\n\u001b[0;32m--> 108\u001b[0m state_dict \u001b[39m=\u001b[39m torch\u001b[39m.\u001b[39;49mload(checkpoint, map_location \u001b[39m=\u001b[39;49m device)[\u001b[39m\"\u001b[39m\u001b[39mstate_dict\u001b[39m\u001b[39m\"\u001b[39m]\n\u001b[1;32m    109\u001b[0m \u001b[39mif\u001b[39;00m(\u001b[39mnext\u001b[39m(\u001b[39miter\u001b[39m(state_dict\u001b[39m.\u001b[39mitems()))[\u001b[39m0\u001b[39m]\u001b[39m.\u001b[39mstartswith(\u001b[39m\"\u001b[39m\u001b[39mmodule\u001b[39m\u001b[39m\"\u001b[39m)):\n\u001b[1;32m    110\u001b[0m     state_dict \u001b[39m=\u001b[39m {key[\u001b[39mlen\u001b[39m(\u001b[39m\"\u001b[39m\u001b[39mmodule.\u001b[39m\u001b[39m\"\u001b[39m):]: value \u001b[39mfor\u001b[39;00m key, value \u001b[39min\u001b[39;00m state_dict\u001b[39m.\u001b[39mitems()}\n",
      "File \u001b[0;32m~/anaconda3/envs/myenv/lib/python3.9/site-packages/torch/serialization.py:797\u001b[0m, in \u001b[0;36mload\u001b[0;34m(f, map_location, pickle_module, weights_only, **pickle_load_args)\u001b[0m\n\u001b[1;32m    792\u001b[0m \u001b[39mif\u001b[39;00m _is_zipfile(opened_file):\n\u001b[1;32m    793\u001b[0m     \u001b[39m# The zipfile reader is going to advance the current file position.\u001b[39;00m\n\u001b[1;32m    794\u001b[0m     \u001b[39m# If we want to actually tail call to torch.jit.load, we need to\u001b[39;00m\n\u001b[1;32m    795\u001b[0m     \u001b[39m# reset back to the original position.\u001b[39;00m\n\u001b[1;32m    796\u001b[0m     orig_position \u001b[39m=\u001b[39m opened_file\u001b[39m.\u001b[39mtell()\n\u001b[0;32m--> 797\u001b[0m     \u001b[39mwith\u001b[39;00m _open_zipfile_reader(opened_file) \u001b[39mas\u001b[39;00m opened_zipfile:\n\u001b[1;32m    798\u001b[0m         \u001b[39mif\u001b[39;00m _is_torchscript_zip(opened_zipfile):\n\u001b[1;32m    799\u001b[0m             warnings\u001b[39m.\u001b[39mwarn(\u001b[39m\"\u001b[39m\u001b[39m'\u001b[39m\u001b[39mtorch.load\u001b[39m\u001b[39m'\u001b[39m\u001b[39m received a zip file that looks like a TorchScript archive\u001b[39m\u001b[39m\"\u001b[39m\n\u001b[1;32m    800\u001b[0m                           \u001b[39m\"\u001b[39m\u001b[39m dispatching to \u001b[39m\u001b[39m'\u001b[39m\u001b[39mtorch.jit.load\u001b[39m\u001b[39m'\u001b[39m\u001b[39m (call \u001b[39m\u001b[39m'\u001b[39m\u001b[39mtorch.jit.load\u001b[39m\u001b[39m'\u001b[39m\u001b[39m directly to\u001b[39m\u001b[39m\"\u001b[39m\n\u001b[1;32m    801\u001b[0m                           \u001b[39m\"\u001b[39m\u001b[39m silence this warning)\u001b[39m\u001b[39m\"\u001b[39m, \u001b[39mUserWarning\u001b[39;00m)\n",
      "File \u001b[0;32m~/anaconda3/envs/myenv/lib/python3.9/site-packages/torch/serialization.py:283\u001b[0m, in \u001b[0;36m_open_zipfile_reader.__init__\u001b[0;34m(self, name_or_buffer)\u001b[0m\n\u001b[1;32m    282\u001b[0m \u001b[39mdef\u001b[39;00m \u001b[39m__init__\u001b[39m(\u001b[39mself\u001b[39m, name_or_buffer) \u001b[39m-\u001b[39m\u001b[39m>\u001b[39m \u001b[39mNone\u001b[39;00m:\n\u001b[0;32m--> 283\u001b[0m     \u001b[39msuper\u001b[39m()\u001b[39m.\u001b[39m\u001b[39m__init__\u001b[39m(torch\u001b[39m.\u001b[39;49m_C\u001b[39m.\u001b[39;49mPyTorchFileReader(name_or_buffer))\n",
      "\u001b[0;31mRuntimeError\u001b[0m: PytorchStreamReader failed reading zip archive: failed finding central directory"
     ]
    }
   ],
   "source": [
    "from clipexplorer.widgets import CLIPComparerWidget\n",
    "clip_comparer = CLIPComparerWidget(dataset_name, all_images, all_prompts, models=['CLIP', 'CyCLIP', 'CLOOB', 'CLOOB_LAION400M'])\n",
    "clip_comparer"
   ]
  },
  {
   "cell_type": "code",
   "execution_count": null,
   "metadata": {},
   "outputs": [],
   "source": []
  }
 ],
 "metadata": {
  "kernelspec": {
   "display_name": "ibm-altair",
   "language": "python",
   "name": "python3"
  },
  "language_info": {
   "codemirror_mode": {
    "name": "ipython",
    "version": 3
   },
   "file_extension": ".py",
   "mimetype": "text/x-python",
   "name": "python",
   "nbconvert_exporter": "python",
   "pygments_lexer": "ipython3",
   "version": "3.9.16"
  },
  "orig_nbformat": 4
 },
 "nbformat": 4,
 "nbformat_minor": 2
}
