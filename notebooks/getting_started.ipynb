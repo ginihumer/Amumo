{
 "cells": [
  {
   "cell_type": "code",
   "execution_count": 5,
   "metadata": {},
   "outputs": [
    {
     "name": "stdout",
     "output_type": "stream",
     "text": [
      "Collecting git+https://github.com/facebookresearch/ImageBind\n",
      "  Cloning https://github.com/facebookresearch/ImageBind to c:\\users\\christina\\appdata\\local\\temp\\pip-req-build-yarpu46c\n",
      "  Resolved https://github.com/facebookresearch/ImageBind to commit c6a47d6dc2b53eced51d398c181d57049ca59286\n",
      "  Preparing metadata (setup.py): started\n",
      "  Preparing metadata (setup.py): finished with status 'done'\n",
      "Collecting pytorchvideo@ git+https://github.com/facebookresearch/pytorchvideo.git@28fe037d212663c6a24f373b94cc5d478c8c1a1d (from imagebind==0.1.0)\n",
      "  Using cached pytorchvideo-0.1.5-py3-none-any.whl\n",
      "Collecting torch==1.13.0 (from imagebind==0.1.0)\n",
      "  Using cached torch-1.13.0-cp39-cp39-win_amd64.whl (167.2 MB)\n",
      "Collecting torchvision==0.14.0 (from imagebind==0.1.0)\n",
      "  Using cached torchvision-0.14.0-cp39-cp39-win_amd64.whl (1.1 MB)\n",
      "Collecting torchaudio==0.13.0 (from imagebind==0.1.0)\n",
      "  Using cached torchaudio-0.13.0-cp39-cp39-win_amd64.whl (2.1 MB)\n",
      "Collecting timm==0.6.7 (from imagebind==0.1.0)\n",
      "  Using cached timm-0.6.7-py3-none-any.whl (509 kB)\n",
      "Requirement already satisfied: ftfy in c:\\users\\christina\\anaconda3\\envs\\amumo_test\\lib\\site-packages (from imagebind==0.1.0) (6.1.3)\n",
      "Requirement already satisfied: regex in c:\\users\\christina\\anaconda3\\envs\\amumo_test\\lib\\site-packages (from imagebind==0.1.0) (2023.12.25)\n",
      "Collecting einops (from imagebind==0.1.0)\n",
      "  Using cached einops-0.7.0-py3-none-any.whl.metadata (13 kB)\n",
      "Collecting fvcore (from imagebind==0.1.0)\n",
      "  Using cached fvcore-0.1.5.post20221221-py3-none-any.whl\n",
      "Collecting eva-decord==0.6.1 (from imagebind==0.1.0)\n",
      "  Using cached eva_decord-0.6.1-py3-none-win_amd64.whl (25.5 MB)\n",
      "Collecting iopath (from imagebind==0.1.0)\n",
      "  Using cached iopath-0.1.10-py3-none-any.whl\n",
      "Requirement already satisfied: numpy>=1.19 in c:\\users\\christina\\anaconda3\\envs\\amumo_test\\lib\\site-packages (from imagebind==0.1.0) (1.23.5)\n",
      "Collecting matplotlib (from imagebind==0.1.0)\n",
      "  Using cached matplotlib-3.8.2-cp39-cp39-win_amd64.whl.metadata (5.9 kB)\n",
      "Collecting types-regex (from imagebind==0.1.0)\n",
      "  Using cached types_regex-2023.12.25.20240106-py3-none-any.whl.metadata (1.6 kB)\n",
      "Collecting mayavi (from imagebind==0.1.0)\n",
      "  Using cached mayavi-4.8.1-py3-none-any.whl\n",
      "Collecting cartopy (from imagebind==0.1.0)\n",
      "  Using cached Cartopy-0.22.0-cp39-cp39-win_amd64.whl.metadata (15 kB)\n",
      "Requirement already satisfied: typing-extensions in c:\\users\\christina\\anaconda3\\envs\\amumo_test\\lib\\site-packages (from torch==1.13.0->imagebind==0.1.0) (4.9.0)\n",
      "Requirement already satisfied: requests in c:\\users\\christina\\anaconda3\\envs\\amumo_test\\lib\\site-packages (from torchvision==0.14.0->imagebind==0.1.0) (2.31.0)\n",
      "Requirement already satisfied: pillow!=8.3.*,>=5.3.0 in c:\\users\\christina\\anaconda3\\envs\\amumo_test\\lib\\site-packages (from torchvision==0.14.0->imagebind==0.1.0) (10.2.0)\n",
      "Collecting shapely>=1.7 (from cartopy->imagebind==0.1.0)\n",
      "  Using cached shapely-2.0.2-cp39-cp39-win_amd64.whl.metadata (7.2 kB)\n",
      "Requirement already satisfied: packaging>=20 in c:\\users\\christina\\anaconda3\\envs\\amumo_test\\lib\\site-packages (from cartopy->imagebind==0.1.0) (23.2)\n",
      "Collecting pyshp>=2.1 (from cartopy->imagebind==0.1.0)\n",
      "  Using cached pyshp-2.3.1-py2.py3-none-any.whl (46 kB)\n",
      "Collecting pyproj>=3.1.0 (from cartopy->imagebind==0.1.0)\n",
      "  Using cached pyproj-3.6.1-cp39-cp39-win_amd64.whl.metadata (31 kB)\n",
      "Collecting contourpy>=1.0.1 (from matplotlib->imagebind==0.1.0)\n",
      "  Using cached contourpy-1.2.0-cp39-cp39-win_amd64.whl.metadata (5.8 kB)\n",
      "Collecting cycler>=0.10 (from matplotlib->imagebind==0.1.0)\n",
      "  Using cached cycler-0.12.1-py3-none-any.whl.metadata (3.8 kB)\n",
      "Collecting fonttools>=4.22.0 (from matplotlib->imagebind==0.1.0)\n",
      "  Using cached fonttools-4.47.2-cp39-cp39-win_amd64.whl.metadata (160 kB)\n",
      "Collecting kiwisolver>=1.3.1 (from matplotlib->imagebind==0.1.0)\n",
      "  Using cached kiwisolver-1.4.5-cp39-cp39-win_amd64.whl.metadata (6.5 kB)\n",
      "Collecting pyparsing>=2.3.1 (from matplotlib->imagebind==0.1.0)\n",
      "  Using cached pyparsing-3.1.1-py3-none-any.whl.metadata (5.1 kB)\n",
      "Requirement already satisfied: python-dateutil>=2.7 in c:\\users\\christina\\anaconda3\\envs\\amumo_test\\lib\\site-packages (from matplotlib->imagebind==0.1.0) (2.8.2)\n",
      "Collecting importlib-resources>=3.2.0 (from matplotlib->imagebind==0.1.0)\n",
      "  Using cached importlib_resources-6.1.1-py3-none-any.whl.metadata (4.1 kB)\n",
      "Requirement already satisfied: wcwidth<0.3.0,>=0.2.12 in c:\\users\\christina\\anaconda3\\envs\\amumo_test\\lib\\site-packages (from ftfy->imagebind==0.1.0) (0.2.13)\n",
      "Collecting yacs>=0.1.6 (from fvcore->imagebind==0.1.0)\n",
      "  Using cached yacs-0.1.8-py3-none-any.whl (14 kB)\n",
      "Requirement already satisfied: pyyaml>=5.1 in c:\\users\\christina\\anaconda3\\envs\\amumo_test\\lib\\site-packages (from fvcore->imagebind==0.1.0) (6.0.1)\n",
      "Requirement already satisfied: tqdm in c:\\users\\christina\\anaconda3\\envs\\amumo_test\\lib\\site-packages (from fvcore->imagebind==0.1.0) (4.66.1)\n",
      "Requirement already satisfied: termcolor>=1.1 in c:\\users\\christina\\anaconda3\\envs\\amumo_test\\lib\\site-packages (from fvcore->imagebind==0.1.0) (2.4.0)\n",
      "Collecting tabulate (from fvcore->imagebind==0.1.0)\n",
      "  Using cached tabulate-0.9.0-py3-none-any.whl (35 kB)\n",
      "Collecting portalocker (from iopath->imagebind==0.1.0)\n",
      "  Using cached portalocker-2.8.2-py3-none-any.whl.metadata (8.5 kB)\n",
      "Collecting apptools (from mayavi->imagebind==0.1.0)\n",
      "  Using cached apptools-5.2.1-py3-none-any.whl.metadata (4.2 kB)\n",
      "Collecting envisage (from mayavi->imagebind==0.1.0)\n",
      "  Using cached envisage-7.0.3-py3-none-any.whl (268 kB)\n",
      "Collecting pyface>=6.1.1 (from mayavi->imagebind==0.1.0)\n",
      "  Using cached pyface-8.0.0-py3-none-any.whl (1.3 MB)\n",
      "Requirement already satisfied: pygments in c:\\users\\christina\\anaconda3\\envs\\amumo_test\\lib\\site-packages (from mayavi->imagebind==0.1.0) (2.17.2)\n",
      "Collecting traits>=6.0.0 (from mayavi->imagebind==0.1.0)\n",
      "  Using cached traits-6.4.3-cp39-cp39-win_amd64.whl.metadata (5.2 kB)\n",
      "Collecting traitsui>=7.0.0 (from mayavi->imagebind==0.1.0)\n",
      "  Using cached traitsui-8.0.0-py3-none-any.whl.metadata (6.8 kB)\n",
      "Collecting vtk (from mayavi->imagebind==0.1.0)\n",
      "  Using cached vtk-9.3.0-cp39-cp39-win_amd64.whl.metadata (5.3 kB)\n",
      "Collecting av (from pytorchvideo@ git+https://github.com/facebookresearch/pytorchvideo.git@28fe037d212663c6a24f373b94cc5d478c8c1a1d->imagebind==0.1.0)\n",
      "  Using cached av-11.0.0-cp39-cp39-win_amd64.whl.metadata (4.7 kB)\n",
      "Collecting parameterized (from pytorchvideo@ git+https://github.com/facebookresearch/pytorchvideo.git@28fe037d212663c6a24f373b94cc5d478c8c1a1d->imagebind==0.1.0)\n",
      "  Using cached parameterized-0.9.0-py2.py3-none-any.whl (20 kB)\n",
      "Requirement already satisfied: networkx in c:\\users\\christina\\anaconda3\\envs\\amumo_test\\lib\\site-packages (from pytorchvideo@ git+https://github.com/facebookresearch/pytorchvideo.git@28fe037d212663c6a24f373b94cc5d478c8c1a1d->imagebind==0.1.0) (3.2.1)\n",
      "Requirement already satisfied: zipp>=3.1.0 in c:\\users\\christina\\anaconda3\\envs\\amumo_test\\lib\\site-packages (from importlib-resources>=3.2.0->matplotlib->imagebind==0.1.0) (3.17.0)\n",
      "Requirement already satisfied: importlib-metadata>=3.6 in c:\\users\\christina\\appdata\\roaming\\python\\python39\\site-packages (from pyface>=6.1.1->mayavi->imagebind==0.1.0) (4.12.0)\n",
      "Requirement already satisfied: certifi in c:\\users\\christina\\anaconda3\\envs\\amumo_test\\lib\\site-packages (from pyproj>=3.1.0->cartopy->imagebind==0.1.0) (2023.11.17)\n",
      "Requirement already satisfied: six>=1.5 in c:\\users\\christina\\anaconda3\\envs\\amumo_test\\lib\\site-packages (from python-dateutil>=2.7->matplotlib->imagebind==0.1.0) (1.16.0)\n",
      "Collecting configobj (from apptools->mayavi->imagebind==0.1.0)\n",
      "  Using cached configobj-5.0.8-py2.py3-none-any.whl (36 kB)\n",
      "Requirement already satisfied: setuptools in c:\\users\\christina\\anaconda3\\envs\\amumo_test\\lib\\site-packages (from envisage->mayavi->imagebind==0.1.0) (68.2.2)\n",
      "Requirement already satisfied: pywin32>=226 in c:\\users\\christina\\anaconda3\\envs\\amumo_test\\lib\\site-packages (from portalocker->iopath->imagebind==0.1.0) (227)\n",
      "Requirement already satisfied: charset-normalizer<4,>=2 in c:\\users\\christina\\anaconda3\\envs\\amumo_test\\lib\\site-packages (from requests->torchvision==0.14.0->imagebind==0.1.0) (3.3.2)\n",
      "Requirement already satisfied: idna<4,>=2.5 in c:\\users\\christina\\anaconda3\\envs\\amumo_test\\lib\\site-packages (from requests->torchvision==0.14.0->imagebind==0.1.0) (3.6)\n",
      "Requirement already satisfied: urllib3<3,>=1.21.1 in c:\\users\\christina\\anaconda3\\envs\\amumo_test\\lib\\site-packages (from requests->torchvision==0.14.0->imagebind==0.1.0) (2.2.0)\n",
      "Requirement already satisfied: colorama in c:\\users\\christina\\anaconda3\\envs\\amumo_test\\lib\\site-packages (from tqdm->fvcore->imagebind==0.1.0) (0.4.6)\n",
      "Using cached Cartopy-0.22.0-cp39-cp39-win_amd64.whl (11.2 MB)\n",
      "Using cached matplotlib-3.8.2-cp39-cp39-win_amd64.whl (7.6 MB)\n",
      "Using cached einops-0.7.0-py3-none-any.whl (44 kB)\n",
      "Using cached types_regex-2023.12.25.20240106-py3-none-any.whl (5.3 kB)\n",
      "Using cached contourpy-1.2.0-cp39-cp39-win_amd64.whl (181 kB)\n",
      "Using cached cycler-0.12.1-py3-none-any.whl (8.3 kB)\n",
      "Using cached fonttools-4.47.2-cp39-cp39-win_amd64.whl (2.2 MB)\n",
      "Using cached importlib_resources-6.1.1-py3-none-any.whl (33 kB)\n",
      "Using cached kiwisolver-1.4.5-cp39-cp39-win_amd64.whl (56 kB)\n",
      "Using cached pyparsing-3.1.1-py3-none-any.whl (103 kB)\n",
      "Using cached pyproj-3.6.1-cp39-cp39-win_amd64.whl (6.1 MB)\n",
      "Using cached shapely-2.0.2-cp39-cp39-win_amd64.whl (1.4 MB)\n",
      "Using cached traits-6.4.3-cp39-cp39-win_amd64.whl (5.0 MB)\n",
      "Using cached traitsui-8.0.0-py3-none-any.whl (1.5 MB)\n",
      "Using cached apptools-5.2.1-py3-none-any.whl (229 kB)\n",
      "Using cached av-11.0.0-cp39-cp39-win_amd64.whl (25.9 MB)\n",
      "Using cached portalocker-2.8.2-py3-none-any.whl (17 kB)\n",
      "Using cached vtk-9.3.0-cp39-cp39-win_amd64.whl (52.4 MB)\n",
      "Building wheels for collected packages: imagebind\n",
      "  Building wheel for imagebind (setup.py): started\n",
      "  Building wheel for imagebind (setup.py): finished with status 'done'\n",
      "  Created wheel for imagebind: filename=imagebind-0.1.0-py3-none-any.whl size=28134 sha256=c0a698958b39c1f54684b7b97176ece0ae76e39dfcbc800288eb734a52017616\n",
      "  Stored in directory: C:\\Users\\Christina\\AppData\\Local\\Temp\\pip-ephem-wheel-cache-75plciuu\\wheels\\34\\d8\\bd\\077a56b4899c9b699ecabddf3242ff790fd34e8a79aaaabe7d\n",
      "Successfully built imagebind\n",
      "Installing collected packages: yacs, types-regex, traits, torch, tabulate, shapely, pyshp, pyproj, pyparsing, portalocker, parameterized, kiwisolver, importlib-resources, fonttools, eva-decord, einops, cycler, contourpy, configobj, av, torchvision, torchaudio, pyface, matplotlib, iopath, vtk, traitsui, timm, fvcore, cartopy, pytorchvideo, apptools, envisage, mayavi, imagebind\n",
      "  Attempting uninstall: torch\n",
      "    Found existing installation: torch 2.2.0\n",
      "    Uninstalling torch-2.2.0:\n",
      "      Successfully uninstalled torch-2.2.0\n",
      "  Attempting uninstall: torchvision\n",
      "    Found existing installation: torchvision 0.17.0\n",
      "    Uninstalling torchvision-0.17.0:\n",
      "      Successfully uninstalled torchvision-0.17.0\n",
      "  Attempting uninstall: timm\n",
      "    Found existing installation: timm 0.9.12\n",
      "    Uninstalling timm-0.9.12:\n",
      "      Successfully uninstalled timm-0.9.12\n",
      "  Attempting uninstall: imagebind\n",
      "    Found existing installation: imagebind 0.0.1.dev0\n",
      "    Uninstalling imagebind-0.0.1.dev0:\n",
      "      Successfully uninstalled imagebind-0.0.1.dev0\n",
      "Successfully installed apptools-5.2.1 av-11.0.0 cartopy-0.22.0 configobj-5.0.8 contourpy-1.2.0 cycler-0.12.1 einops-0.7.0 envisage-7.0.3 eva-decord-0.6.1 fonttools-4.47.2 fvcore-0.1.5.post20221221 imagebind-0.1.0 importlib-resources-6.1.1 iopath-0.1.10 kiwisolver-1.4.5 matplotlib-3.8.2 mayavi-4.8.1 parameterized-0.9.0 portalocker-2.8.2 pyface-8.0.0 pyparsing-3.1.1 pyproj-3.6.1 pyshp-2.3.1 pytorchvideo-0.1.5 shapely-2.0.2 tabulate-0.9.0 timm-0.6.7 torch-1.13.0 torchaudio-0.13.0 torchvision-0.14.0 traits-6.4.3 traitsui-8.0.0 types-regex-2023.12.25.20240106 vtk-9.3.0 yacs-0.1.8\n"
     ]
    },
    {
     "name": "stderr",
     "output_type": "stream",
     "text": [
      "  Running command git clone --filter=blob:none --quiet https://github.com/facebookresearch/ImageBind 'C:\\Users\\Christina\\AppData\\Local\\Temp\\pip-req-build-yarpu46c'\n",
      "  WARNING: Failed to remove contents in a temporary directory 'C:\\Users\\Christina\\anaconda3\\envs\\amumo_test\\Lib\\site-packages\\~orch'.\n",
      "  You can safely remove it manually.\n",
      "  WARNING: Failed to remove contents in a temporary directory 'C:\\Users\\Christina\\anaconda3\\envs\\amumo_test\\Lib\\site-packages\\~orchvision'.\n",
      "  You can safely remove it manually.\n",
      "ERROR: pip's dependency resolver does not currently take into account all the packages that are installed. This behaviour is the source of the following dependency conflicts.\n",
      "amumo 0.1.38 requires torch==2.2.0, but you have torch 1.13.0 which is incompatible.\n"
     ]
    }
   ],
   "source": [
    "# install Amumo\n",
    "\n",
    "# need ipykernel > 6\n",
    "# ! pip install ipykernel==6.23.1\n",
    "# ! pip install git+https://github.com/ginihumer/Amumo.git[clip,cloob,diffusion-db]\n",
    "# for local installation\n",
    "# ! pip install -e ..[clip,cloob,diffusion-db]"
   ]
  },
  {
   "cell_type": "code",
   "execution_count": 4,
   "metadata": {},
   "outputs": [
    {
     "name": "stdout",
     "output_type": "stream",
     "text": [
      "absl-py==1.1.0\n",
      "aiohttp==3.9.3\n",
      "aiosignal==1.3.1\n",
      "-e git+https://github.com/ginihumer/Amumo.git@0959bbd7c6765ed67b3adb94bf05d319e01f3958#egg=Amumo\n",
      "argon2-cffi==21.3.0\n",
      "argon2-cffi-bindings==21.2.0\n",
      "asttokens==2.0.5\n",
      "astunparse==1.6.3\n",
      "async-timeout==4.0.3\n",
      "attrs==23.2.0\n",
      "backcall @ file:///home/conda/feedstock_root/build_artifacts/backcall_1592338393461/work\n",
      "beautifulsoup4==4.11.1\n",
      "bleach==5.0.1\n",
      "bqplot==0.12.33\n",
      "cachetools==5.2.0\n",
      "certifi==2023.11.17\n",
      "cffi==1.15.1\n",
      "charset-normalizer==3.3.2\n",
      "colorama @ file:///home/conda/feedstock_root/build_artifacts/colorama_1666700638685/work\n",
      "comm @ file:///home/conda/feedstock_root/build_artifacts/comm_1704278392174/work\n",
      "datasets==2.14.6\n",
      "debugpy @ file:///C:/b/abs_c0y1fjipt2/croot/debugpy_1690906864587/work\n",
      "decorator==5.1.1\n",
      "defusedxml==0.7.1\n",
      "dill==0.3.7\n",
      "executing @ file:///home/conda/feedstock_root/build_artifacts/executing_1698579936712/work\n",
      "filelock==3.13.1\n",
      "frozenlist==1.4.1\n",
      "fsspec==2023.10.0\n",
      "gast==0.4.0\n",
      "google-auth==2.9.0\n",
      "google-auth-oauthlib==0.4.6\n",
      "google-pasta==0.2.0\n",
      "grpcio==1.47.0\n",
      "h5py==3.7.0\n",
      "huggingface-hub==0.20.3\n",
      "idna==3.6\n",
      "importlib-metadata==4.12.0\n",
      "ipykernel==6.23.1\n",
      "ipython==8.4.0\n",
      "ipyvuetify==1.8.2\n",
      "ipywidgets==8.0.6\n",
      "jedi==0.18.1\n",
      "Jinja2==3.1.2\n",
      "joblib==1.3.2\n",
      "jupyter_client @ file:///home/conda/feedstock_root/build_artifacts/jupyter_client_1699283905679/work\n",
      "jupyter_core @ file:///D:/bld/jupyter_core_1669775233774/work\n",
      "jupyterlab-pygments==0.2.2\n",
      "jupyterlab-widgets==3.0.9\n",
      "Keras-Preprocessing==1.1.2\n",
      "llvmlite==0.40.1\n",
      "Markdown==3.3.7\n",
      "MarkupSafe==2.1.4\n",
      "matplotlib-inline @ file:///home/conda/feedstock_root/build_artifacts/matplotlib-inline_1660814786464/work\n",
      "mpmath==1.3.0\n",
      "multidict==6.0.4\n",
      "multiprocess==0.70.15\n",
      "nbclient==0.6.6\n",
      "nbconvert==6.5.0\n",
      "nbformat==5.4.0\n",
      "nest_asyncio @ file:///home/conda/feedstock_root/build_artifacts/nest-asyncio_1705850609492/work\n",
      "networkx==3.2.1\n",
      "notebook==6.4.12\n",
      "numba==0.57.1\n",
      "numpy==1.23.5\n",
      "oauthlib==3.2.0\n",
      "openTSNE==1.0.0\n",
      "opt-einsum==3.3.0\n",
      "packaging @ file:///home/conda/feedstock_root/build_artifacts/packaging_1696202382185/work\n",
      "pandas==1.4.3\n",
      "parso @ file:///home/conda/feedstock_root/build_artifacts/parso_1638334955874/work\n",
      "pickleshare @ file:///home/conda/feedstock_root/build_artifacts/pickleshare_1602536217715/work\n",
      "pillow==10.2.0\n",
      "plotly==5.18.0\n",
      "prompt-toolkit @ file:///home/conda/feedstock_root/build_artifacts/prompt-toolkit_1702399386289/work\n",
      "protobuf==3.19.4\n",
      "psutil @ file:///C:/Windows/Temp/abs_b2c2fd7f-9fd5-4756-95ea-8aed74d0039flsd9qufz/croots/recipe/psutil_1656431277748/work\n",
      "pure-eval @ file:///home/conda/feedstock_root/build_artifacts/pure_eval_1642875951954/work\n",
      "pyarrow==15.0.0\n",
      "pyasn1-modules==0.2.8\n",
      "pycocotools==2.0.6\n",
      "Pygments @ file:///home/conda/feedstock_root/build_artifacts/pygments_1700607939962/work\n",
      "pynndescent==0.5.10\n",
      "python-dateutil @ file:///home/conda/feedstock_root/build_artifacts/python-dateutil_1626286286081/work\n",
      "pytz==2023.4\n",
      "pywin32==227\n",
      "PyYAML==6.0.1\n",
      "pyzmq @ file:///C:/b/abs_89aq69t0up/croot/pyzmq_1705605705281/work\n",
      "requests==2.31.0\n",
      "requests-oauthlib==1.3.1\n",
      "responses==0.18.0\n",
      "scikit-learn==1.3.0\n",
      "scipy==1.12.0\n",
      "six @ file:///home/conda/feedstock_root/build_artifacts/six_1620240208055/work\n",
      "stack-data==0.3.0\n",
      "sympy==1.12\n",
      "tenacity==8.2.3\n",
      "tensorboard==2.9.1\n",
      "tensorflow==2.9.1\n",
      "threadpoolctl==3.2.0\n",
      "torch==2.2.0\n",
      "tornado @ file:///D:/bld/tornado_1656937934674/work\n",
      "tqdm==4.66.1\n",
      "traitlets @ file:///home/conda/feedstock_root/build_artifacts/traitlets_1704212992681/work\n",
      "typing_extensions @ file:///home/conda/feedstock_root/build_artifacts/typing_extensions_1702176139754/work\n",
      "umap-learn==0.5.3\n",
      "urllib3==2.2.0\n",
      "wcwidth @ file:///home/conda/feedstock_root/build_artifacts/wcwidth_1704731205417/work\n",
      "widgetsnbextension==4.0.9\n",
      "xxhash==3.4.1\n",
      "yarl==1.9.4\n",
      "zipp @ file:///home/conda/feedstock_root/build_artifacts/zipp_1695255097490/work\n"
     ]
    }
   ],
   "source": [
    "! pip freeze"
   ]
  },
  {
   "cell_type": "code",
   "execution_count": 1,
   "metadata": {},
   "outputs": [
    {
     "name": "stderr",
     "output_type": "stream",
     "text": [
      "C:\\Users\\Christina\\AppData\\Roaming\\Python\\Python39\\site-packages\\umap\\distances.py:1063: NumbaDeprecationWarning: \u001b[1mThe 'nopython' keyword argument was not supplied to the 'numba.jit' decorator. The implicit default value for this argument is currently False, but it will be changed to True in Numba 0.59.0. See https://numba.readthedocs.io/en/stable/reference/deprecation.html#deprecation-of-object-mode-fall-back-behaviour-when-using-jit for details.\u001b[0m\n",
      "  @numba.jit()\n",
      "C:\\Users\\Christina\\AppData\\Roaming\\Python\\Python39\\site-packages\\umap\\distances.py:1071: NumbaDeprecationWarning: \u001b[1mThe 'nopython' keyword argument was not supplied to the 'numba.jit' decorator. The implicit default value for this argument is currently False, but it will be changed to True in Numba 0.59.0. See https://numba.readthedocs.io/en/stable/reference/deprecation.html#deprecation-of-object-mode-fall-back-behaviour-when-using-jit for details.\u001b[0m\n",
      "  @numba.jit()\n",
      "C:\\Users\\Christina\\AppData\\Roaming\\Python\\Python39\\site-packages\\umap\\distances.py:1086: NumbaDeprecationWarning: \u001b[1mThe 'nopython' keyword argument was not supplied to the 'numba.jit' decorator. The implicit default value for this argument is currently False, but it will be changed to True in Numba 0.59.0. See https://numba.readthedocs.io/en/stable/reference/deprecation.html#deprecation-of-object-mode-fall-back-behaviour-when-using-jit for details.\u001b[0m\n",
      "  @numba.jit()\n",
      "C:\\Users\\Christina\\AppData\\Roaming\\Python\\Python39\\site-packages\\umap\\umap_.py:660: NumbaDeprecationWarning: \u001b[1mThe 'nopython' keyword argument was not supplied to the 'numba.jit' decorator. The implicit default value for this argument is currently False, but it will be changed to True in Numba 0.59.0. See https://numba.readthedocs.io/en/stable/reference/deprecation.html#deprecation-of-object-mode-fall-back-behaviour-when-using-jit for details.\u001b[0m\n",
      "  @numba.jit()\n"
     ]
    }
   ],
   "source": [
    "# import \n",
    "from amumo import model as am_model\n",
    "from amumo import data as am_data\n",
    "from amumo import widgets as am_widgets"
   ]
  },
  {
   "cell_type": "markdown",
   "metadata": {},
   "source": [
    "# Basic usage"
   ]
  },
  {
   "cell_type": "code",
   "execution_count": 2,
   "metadata": {},
   "outputs": [],
   "source": [
    "# load dataset\n",
    "dataset = am_data.DiffusionDB_Dataset(path=\"2m_first_1k\", batch_size=100) # data helper for the diffusionDB dataset; for the interactive prototype, we only use a random subset of 100 samples\n",
    "all_images, all_prompts = dataset.get_data()\n",
    "cache_name = 'diffusiondb_random_100' # path used to cache the results"
   ]
  },
  {
   "cell_type": "code",
   "execution_count": 3,
   "metadata": {},
   "outputs": [
    {
     "name": "stderr",
     "output_type": "stream",
     "text": [
      "c:\\Users\\Christina\\anaconda3\\envs\\amumo_test\\lib\\site-packages\\torchaudio\\backend\\utils.py:62: UserWarning: No audio backend is available.\n",
      "  warnings.warn(\"No audio backend is available.\")\n",
      "c:\\Users\\Christina\\anaconda3\\envs\\amumo_test\\lib\\site-packages\\torchvision\\transforms\\_functional_video.py:6: UserWarning: The 'torchvision.transforms._functional_video' module is deprecated since 0.12 and will be removed in the future. Please use the 'torchvision.transforms.functional' module instead.\n",
      "  warnings.warn(\n",
      "c:\\Users\\Christina\\anaconda3\\envs\\amumo_test\\lib\\site-packages\\torchvision\\transforms\\_transforms_video.py:22: UserWarning: The 'torchvision.transforms._transforms_video' module is deprecated since 0.12 and will be removed in the future. Please use the 'torchvision.transforms' module instead.\n",
      "  warnings.warn(\n"
     ]
    },
    {
     "name": "stdout",
     "output_type": "stream",
     "text": [
      "found cached embeddings for diffusiondb_random_100_CLIP_RN50 image\n",
      "found cached embeddings for diffusiondb_random_100_CLIP_RN50 text\n"
     ]
    },
    {
     "data": {
      "application/vnd.jupyter.widget-view+json": {
       "model_id": "6b20f3ed85b1411d99ac366fc4a1bb34",
       "version_major": 2,
       "version_minor": 0
      },
      "text/plain": [
       "CLIPExplorerWidget(children=(VBox(children=(HBox(children=(Dropdown(description='Model: ', options=('CLIP', 'C…"
      ]
     },
     "execution_count": 3,
     "metadata": {},
     "output_type": "execute_result"
    },
    {
     "name": "stdout",
     "output_type": "stream",
     "text": [
      "batch 1 of 1\n",
      "batch 1 of 1\n"
     ]
    }
   ],
   "source": [
    "# This widget consists of a similarity heatmap that shows the similarities between all latent embeddings, a 2-dimensional projection of the embeddings, and a hover view of the currently hovered instance.\n",
    "# It also allows user input for choosing the model, an option to manually close the modality gap, an option to cluster the matrix rows by their similarity, and settings for the 2-dimensional projection. \n",
    "# To learn more about the proper use for closing the modality gap, see the interactive article: https://jku-vds-lab.at/amumo.\n",
    "# You can specify a list of models to compare; there is a predefined set of models, but you can also pass your own model class.\n",
    "# The widget takes a list of images and a list of prompts of the same size as input. Images and texts with the same index are considered pairs.\n",
    "am_widgets.CLIPExplorerWidget(cache_name, all_data={\"image\": all_images, \"text\": all_prompts}, models=['CLIP', am_model.CyCLIPModel(), am_model.CLOOB_LAION400M_Model()]) "
   ]
  },
  {
   "cell_type": "code",
   "execution_count": null,
   "metadata": {},
   "outputs": [
    {
     "name": "stdout",
     "output_type": "stream",
     "text": [
      "True [False, False, False] {'CLIP': <amumo.model.CLIPModel object at 0x000001A3B6609370>, 'CyCLIP': <amumo.model.CyCLIPModel object at 0x000001A3875B9DF0>, 'CLOOB_LAION400M': <amumo.model.CLOOB_LAION400M_Model object at 0x000001A3877EEF10>}\n",
      "found cached embeddings for diffusiondb_random_100_CLIP_RN50\n"
     ]
    },
    {
     "name": "stderr",
     "output_type": "stream",
     "text": [
      "c:\\users\\christina\\repositories\\icg\\researchstay\\amumo\\amumo\\widgets.py:940: FutureWarning:\n",
      "\n",
      "The input object of type 'PngImageFile' is an array-like implementing one of the corresponding protocols (`__array__`, `__array_interface__` or `__array_struct__`); but not a sequence (or 0-D). In the future, this object will be coerced as if it was first converted using `np.array(obj)`. To retain the old behaviour, you have to either modify the type 'PngImageFile', or assign to an empty array created with `np.empty(correct_shape, dtype=object)`.\n",
      "\n",
      "c:\\users\\christina\\repositories\\icg\\researchstay\\amumo\\amumo\\widgets.py:940: VisibleDeprecationWarning:\n",
      "\n",
      "Creating an ndarray from ragged nested sequences (which is a list-or-tuple of lists-or-tuples-or ndarrays with different lengths or shapes) is deprecated. If you meant to do this, you must specify 'dtype=object' when creating the ndarray.\n",
      "\n"
     ]
    },
    {
     "name": "stdout",
     "output_type": "stream",
     "text": [
      "found cached embeddings for diffusiondb_random_100_CyCLIP_RN50\n",
      "found cached embeddings for diffusiondb_random_100_CLOOB-LAION400M_ViT-B-16\n"
     ]
    },
    {
     "data": {
      "application/vnd.jupyter.widget-view+json": {
       "model_id": "bb6a173bdf3c4429abff5630ee911873",
       "version_major": 2,
       "version_minor": 0
      },
      "text/plain": [
       "CLIPComparerWidget(children=(HoverWidget(children=(VBox(children=(HTML(value='', layout=Layout(width='300px'))…"
      ]
     },
     "execution_count": 4,
     "metadata": {},
     "output_type": "execute_result"
    }
   ],
   "source": [
    "# This widget shows similarity heatmaps for all models in the list for a better comparison between models.\n",
    "am_widgets.CLIPComparerWidget(cache_name, all_images, all_prompts, models=['CLIP', am_model.CyCLIPModel(), am_model.CLOOB_LAION400M_Model()]) "
   ]
  },
  {
   "cell_type": "markdown",
   "metadata": {},
   "source": [
    "# Use a Custom Model"
   ]
  },
  {
   "cell_type": "code",
   "execution_count": null,
   "metadata": {},
   "outputs": [],
   "source": [
    "import clip\n",
    "import torch\n",
    "import numpy as np\n",
    "# You can use the CLIPModelInterface to create your own model class wrapper.\n",
    "class CustomModel(am_model.CLIPModelInterface):\n",
    "    available_models = clip.available_models()\n",
    "    model_name = 'MyCLIP'\n",
    "\n",
    "    def __init__(self, name='RN50', device='cpu') -> None:\n",
    "        super().__init__(name, device)\n",
    "        self.model, self.preprocess = clip.load(name, device=device)\n",
    "        self.model.eval()\n",
    "        self.logit_scale = self.model.logit_scale\n",
    "\n",
    "    def encode_image(self, images):\n",
    "        images = [self.preprocess(i) for i in images]\n",
    "        image_input = torch.tensor(np.stack(images)).to(self.device)\n",
    "        return self.model.encode_image(image_input).float().cpu()\n",
    "\n",
    "    def encode_text(self, texts):\n",
    "        text_tokens = clip.tokenize(texts, truncate = True).to(self.device)\n",
    "        return self.model.encode_text(text_tokens).float().cpu()"
   ]
  },
  {
   "cell_type": "code",
   "execution_count": null,
   "metadata": {},
   "outputs": [],
   "source": [
    "# The widget takes any instance of type CLIPModelInterface.\n",
    "am_widgets.CLIPExplorerWidget(cache_name, all_data={\"image\": all_images, \"text\": all_prompts}, models=[CustomModel()])"
   ]
  },
  {
   "cell_type": "code",
   "execution_count": null,
   "metadata": {},
   "outputs": [],
   "source": []
  }
 ],
 "metadata": {
  "kernelspec": {
   "display_name": "myenv",
   "language": "python",
   "name": "python3"
  },
  "language_info": {
   "codemirror_mode": {
    "name": "ipython",
    "version": 3
   },
   "file_extension": ".py",
   "mimetype": "text/x-python",
   "name": "python",
   "nbconvert_exporter": "python",
   "pygments_lexer": "ipython3",
   "version": "3.9.18"
  },
  "orig_nbformat": 4
 },
 "nbformat": 4,
 "nbformat_minor": 2
}
