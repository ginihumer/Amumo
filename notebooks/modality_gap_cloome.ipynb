{
 "cells": [
  {
   "cell_type": "code",
   "execution_count": 1,
   "id": "initial_id",
   "metadata": {
    "ExecuteTime": {
     "end_time": "2023-12-07T12:22:13.710359800Z",
     "start_time": "2023-12-07T12:22:11.704600Z"
    }
   },
   "outputs": [],
   "source": [
    "import numpy as np\n",
    "import pandas as pd\n",
    "import sys\n",
    "import os\n",
    "import torch\n",
    "sys.path.insert(0, os.path.abspath(\"src/\"))\n",
    "\n",
    "device = \"cuda\" if torch.cuda.is_available() else \"cpu\""
   ]
  },
  {
   "cell_type": "code",
   "execution_count": 2,
   "id": "7f393a7a-57cc-4710-be55-624994eaa64b",
   "metadata": {},
   "outputs": [],
   "source": [
    "current_directory = os.path.abspath('.')  # Get the absolute path of the current directory\n",
    "parent_directory = os.path.dirname(current_directory)  # Get the directory name one level up\n",
    "basepath = parent_directory\n",
    "datapath = os.path.join(basepath, \"data\")\n",
    "batch_size = 100\n",
    "seed = 31415"
   ]
  },
  {
   "cell_type": "code",
   "execution_count": 3,
   "id": "765880ea-f2de-446a-8f28-efe6693cadfc",
   "metadata": {},
   "outputs": [
    {
     "name": "stdout",
     "output_type": "stream",
     "text": [
      "D:\\JKU\\W2023\\PW\\Amumo\\data\n"
     ]
    }
   ],
   "source": [
    "print(datapath)"
   ]
  },
  {
   "cell_type": "code",
   "execution_count": 4,
   "id": "94af44a9-5eec-49a1-b04b-26fbe175aa7c",
   "metadata": {},
   "outputs": [
    {
     "data": {
      "text/plain": [
       "'CLOOMDataset_size-100'"
      ]
     },
     "execution_count": 4,
     "metadata": {},
     "output_type": "execute_result"
    }
   ],
   "source": [
    "from amumo.data import *\n",
    "\n",
    "# Load Data\n",
    "dataset_cloome = CLOOMDataset_Dataset(datapath,seed,batch_size)\n",
    "cloome_images, cloome_molecules, cloome_dataset_name = dataset_cloome.get_data()\n",
    "cloome_dataset_name"
   ]
  },
  {
   "cell_type": "code",
   "execution_count": 5,
   "id": "7225f388-edea-452c-af94-a448954a064f",
   "metadata": {},
   "outputs": [],
   "source": [
    "# from PIL import Image\n",
    "# for i in range(len(cloome_images.data)):\n",
    "#     # Convert each NumPy array representing an image to a PIL Image and overwrite the array element\n",
    "#     cloome_images.data[i] = Image.fromarray(cloome_images.data[i])"
   ]
  },
  {
   "cell_type": "code",
   "execution_count": 6,
   "id": "3f4c2b73-a228-4f1f-a08a-43a9c601f8ea",
   "metadata": {},
   "outputs": [
    {
     "data": {
      "text/plain": [
       "PIL.Image.Image"
      ]
     },
     "execution_count": 6,
     "metadata": {},
     "output_type": "execute_result"
    }
   ],
   "source": [
    "type(cloome_images.data[0])"
   ]
  },
  {
   "cell_type": "code",
   "execution_count": 7,
   "id": "bb121511-52b0-4b38-bcae-00364286131a",
   "metadata": {},
   "outputs": [],
   "source": [
    "from amumo.utils import *\n",
    "from amumo.model import *\n",
    "molecule_features = os.path.join(datapath, \"all_molecule_cellpainting_features.pkl\")\n",
    "image_features = os.path.join(datapath, \"subset_image_cellpainting_features.pkl\")\n",
    "\n",
    "# molecule features\n",
    "mol_features_torch = torch.load(molecule_features, map_location=device)\n",
    "mol_features = mol_features_torch[\"mol_features\"]\n",
    "mol_ids = mol_features_torch[\"mol_ids\"]\n",
    "\n",
    "# microscopy features\n",
    "img_features_torch = torch.load(image_features, map_location=device)\n",
    "img_features = img_features_torch[\"img_features\"]\n",
    "img_ids = img_features_torch[\"img_ids\"]\n",
    "\n",
    "# extract subsets of features\n",
    "img_feature_idcs = [np.where(np.array(img_features_torch[\"img_ids\"])==i)[0][0] for i in dataset_cloome.dataset[\"SAMPLE_KEY_img\"].values]\n",
    "mol_feature_idcs = [np.where(np.array(mol_features_torch[\"mol_ids\"])==i)[0][0] for i in dataset_cloome.dataset[\"SAMPLE_KEY_mol\"].values]\n",
    "\n",
    "mol_features_sample = mol_features_torch['mol_features'][mol_feature_idcs]\n",
    "mol_features_sample = l2_norm(mol_features_sample)\n",
    "\n",
    "img_features_sample = img_features_torch['img_features'][img_feature_idcs]\n",
    "img_features_sample = l2_norm(img_features_sample)\n",
    "\n",
    "# cache features\n",
    "cloome_model = PrecalculatedModel('seed-%i'%seed, cloome_dataset_name, img_features_sample, mol_features_sample)"
   ]
  },
  {
   "cell_type": "code",
   "execution_count": 8,
   "id": "2ce7f701-ed56-41be-977d-a0fb0ca11978",
   "metadata": {},
   "outputs": [
    {
     "name": "stderr",
     "output_type": "stream",
     "text": [
      "C:\\Users\\husse\\anaconda3\\envs\\amumo_env\\lib\\site-packages\\umap\\distances.py:1063: NumbaDeprecationWarning: \u001b[1mThe 'nopython' keyword argument was not supplied to the 'numba.jit' decorator. The implicit default value for this argument is currently False, but it will be changed to True in Numba 0.59.0. See https://numba.readthedocs.io/en/stable/reference/deprecation.html#deprecation-of-object-mode-fall-back-behaviour-when-using-jit for details.\u001b[0m\n",
      "  @numba.jit()\n",
      "C:\\Users\\husse\\anaconda3\\envs\\amumo_env\\lib\\site-packages\\umap\\distances.py:1071: NumbaDeprecationWarning: \u001b[1mThe 'nopython' keyword argument was not supplied to the 'numba.jit' decorator. The implicit default value for this argument is currently False, but it will be changed to True in Numba 0.59.0. See https://numba.readthedocs.io/en/stable/reference/deprecation.html#deprecation-of-object-mode-fall-back-behaviour-when-using-jit for details.\u001b[0m\n",
      "  @numba.jit()\n",
      "C:\\Users\\husse\\anaconda3\\envs\\amumo_env\\lib\\site-packages\\umap\\distances.py:1086: NumbaDeprecationWarning: \u001b[1mThe 'nopython' keyword argument was not supplied to the 'numba.jit' decorator. The implicit default value for this argument is currently False, but it will be changed to True in Numba 0.59.0. See https://numba.readthedocs.io/en/stable/reference/deprecation.html#deprecation-of-object-mode-fall-back-behaviour-when-using-jit for details.\u001b[0m\n",
      "  @numba.jit()\n",
      "C:\\Users\\husse\\anaconda3\\envs\\amumo_env\\lib\\site-packages\\umap\\umap_.py:660: NumbaDeprecationWarning: \u001b[1mThe 'nopython' keyword argument was not supplied to the 'numba.jit' decorator. The implicit default value for this argument is currently False, but it will be changed to True in Numba 0.59.0. See https://numba.readthedocs.io/en/stable/reference/deprecation.html#deprecation-of-object-mode-fall-back-behaviour-when-using-jit for details.\u001b[0m\n",
      "  @numba.jit()\n"
     ]
    },
    {
     "name": "stdout",
     "output_type": "stream",
     "text": [
      "found cached embeddings for CLOOMDataset_size-100_precalculated_seed-31415\n"
     ]
    },
    {
     "data": {
      "application/vnd.jupyter.widget-view+json": {
       "model_id": "3e59219a469a4f838f707376a0104788",
       "version_major": 2,
       "version_minor": 0
      },
      "text/plain": [
       "CLIPExplorerWidget(children=(VBox(children=(HBox(children=(Dropdown(description='Model: ', options=('precalcul…"
      ]
     },
     "execution_count": 8,
     "metadata": {},
     "output_type": "execute_result"
    }
   ],
   "source": [
    "from amumo.widgets import * \n",
    "\n",
    "cloome_widget = CLIPExplorerWidget(cloome_dataset_name, cloome_images, cloome_molecules, models=[cloome_model])\n",
    "cloome_widget.hover_widget.width = 200\n",
    "cloome_widget"
   ]
  },
  {
   "cell_type": "code",
   "execution_count": null,
   "id": "4e4384cc-46d3-45d4-9bb0-463f66b489a5",
   "metadata": {},
   "outputs": [],
   "source": []
  }
 ],
 "metadata": {
  "kernelspec": {
   "display_name": "Python 3 (ipykernel)",
   "language": "python",
   "name": "python3"
  },
  "language_info": {
   "codemirror_mode": {
    "name": "ipython",
    "version": 3
   },
   "file_extension": ".py",
   "mimetype": "text/x-python",
   "name": "python",
   "nbconvert_exporter": "python",
   "pygments_lexer": "ipython3",
   "version": "3.9.17"
  }
 },
 "nbformat": 4,
 "nbformat_minor": 5
}
